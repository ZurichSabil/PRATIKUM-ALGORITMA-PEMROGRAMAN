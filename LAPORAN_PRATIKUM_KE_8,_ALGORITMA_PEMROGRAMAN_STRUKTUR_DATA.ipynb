{
  "nbformat": 4,
  "nbformat_minor": 0,
  "metadata": {
    "colab": {
      "provenance": [],
      "authorship_tag": "ABX9TyP6wZme9pNrPcK3AmC34miU",
      "include_colab_link": true
    },
    "kernelspec": {
      "name": "python3",
      "display_name": "Python 3"
    },
    "language_info": {
      "name": "python"
    }
  },
  "cells": [
    {
      "cell_type": "markdown",
      "metadata": {
        "id": "view-in-github",
        "colab_type": "text"
      },
      "source": [
        "<a href=\"https://colab.research.google.com/github/ZurichSabil/PRATIKUM-ALGORITMA-PEMROGRAMAN/blob/main/LAPORAN_PRATIKUM_KE_8%2C_ALGORITMA_PEMROGRAMAN_STRUKTUR_DATA.ipynb\" target=\"_parent\"><img src=\"https://colab.research.google.com/assets/colab-badge.svg\" alt=\"Open In Colab\"/></a>"
      ]
    },
    {
      "cell_type": "code",
      "source": [
        "def my_function():\n",
        "  print(\"Hi!, Gemini\")\n",
        "my_function()"
      ],
      "metadata": {
        "colab": {
          "base_uri": "https://localhost:8080/"
        },
        "id": "OOfdlvj8fxm-",
        "outputId": "b4bc9ac1-9f92-4d65-f47c-d1c069d512b7"
      },
      "execution_count": null,
      "outputs": [
        {
          "output_type": "stream",
          "name": "stdout",
          "text": [
            "Hi!, Gemini\n"
          ]
        }
      ]
    },
    {
      "cell_type": "code",
      "source": [
        "def my_function(fname):\n",
        "  print(fname + \" Kagie\")\n",
        "\n",
        "my_function(\"Kagiu\")\n",
        "my_function(\"Kagie\")\n",
        "my_function(\"Kagio\")"
      ],
      "metadata": {
        "colab": {
          "base_uri": "https://localhost:8080/"
        },
        "id": "-LZ9QQD2gEFd",
        "outputId": "7f5e4de3-4834-4813-ac72-e44625457b61"
      },
      "execution_count": null,
      "outputs": [
        {
          "output_type": "stream",
          "name": "stdout",
          "text": [
            "Kagiu Kagie\n",
            "Kagie Kagie\n",
            "Kagio Kagie\n"
          ]
        }
      ]
    },
    {
      "cell_type": "code",
      "source": [
        "#This function expects 2 arguments, and gets 2 arguments:\n",
        "def my_function(fname, lname):\n",
        "  print(fname + \" \" + lname)\n",
        "\n",
        "my_function(\"Kagiu\", \"Kagie\")"
      ],
      "metadata": {
        "colab": {
          "base_uri": "https://localhost:8080/"
        },
        "id": "EPdQ4XlPgXBW",
        "outputId": "b145c7ab-a21f-47be-858a-2b4d45299335"
      },
      "execution_count": null,
      "outputs": [
        {
          "output_type": "stream",
          "name": "stdout",
          "text": [
            "Kagiu Kagie\n"
          ]
        }
      ]
    },
    {
      "cell_type": "code",
      "source": [
        "#This function expects 2 arguments, but gets only 1:\n",
        "def my_function(fname, lname):\n",
        "  print(fname + \" \" + lname)\n",
        "\n",
        "my_function(\"Kagiel\")"
      ],
      "metadata": {
        "colab": {
          "base_uri": "https://localhost:8080/",
          "height": 176
        },
        "id": "Ys2oU7DXgi5B",
        "outputId": "732c8598-2014-466d-9b77-f685edc6fabc"
      },
      "execution_count": null,
      "outputs": [
        {
          "output_type": "error",
          "ename": "TypeError",
          "evalue": "my_function() missing 1 required positional argument: 'lname'",
          "traceback": [
            "\u001b[0;31m---------------------------------------------------------------------------\u001b[0m",
            "\u001b[0;31mTypeError\u001b[0m                                 Traceback (most recent call last)",
            "\u001b[0;32m<ipython-input-4-ed9ba7130318>\u001b[0m in \u001b[0;36m<cell line: 5>\u001b[0;34m()\u001b[0m\n\u001b[1;32m      3\u001b[0m   \u001b[0mprint\u001b[0m\u001b[0;34m(\u001b[0m\u001b[0mfname\u001b[0m \u001b[0;34m+\u001b[0m \u001b[0;34m\" \"\u001b[0m \u001b[0;34m+\u001b[0m \u001b[0mlname\u001b[0m\u001b[0;34m)\u001b[0m\u001b[0;34m\u001b[0m\u001b[0;34m\u001b[0m\u001b[0m\n\u001b[1;32m      4\u001b[0m \u001b[0;34m\u001b[0m\u001b[0m\n\u001b[0;32m----> 5\u001b[0;31m \u001b[0mmy_function\u001b[0m\u001b[0;34m(\u001b[0m\u001b[0;34m\"Kagiel\"\u001b[0m\u001b[0;34m)\u001b[0m\u001b[0;34m\u001b[0m\u001b[0;34m\u001b[0m\u001b[0m\n\u001b[0m",
            "\u001b[0;31mTypeError\u001b[0m: my_function() missing 1 required positional argument: 'lname'"
          ]
        }
      ]
    },
    {
      "cell_type": "code",
      "source": [
        "#If the number of arguments is unknown, add a * before the parameter name:\n",
        "\n",
        "def my_function(*kids):\n",
        "  print(\"The highest child is \" + kids[2])\n",
        "\n",
        "my_function(\"Farzan\", \"Farida\", \"Ida\")"
      ],
      "metadata": {
        "colab": {
          "base_uri": "https://localhost:8080/"
        },
        "id": "5WPYTPSugy7P",
        "outputId": "0d009ca4-87ba-4eb7-e9b0-574196e01649"
      },
      "execution_count": null,
      "outputs": [
        {
          "output_type": "stream",
          "name": "stdout",
          "text": [
            "The highest child is Ida\n"
          ]
        }
      ]
    },
    {
      "cell_type": "code",
      "source": [
        "def my_function(child3, child2, child1):\n",
        "  print(\"The highest child is \" + child3)\n",
        "\n",
        "my_function(child1 = \"Farzan\", child2 = \"Ida\", child3 = \"Farida\")"
      ],
      "metadata": {
        "colab": {
          "base_uri": "https://localhost:8080/"
        },
        "id": "9KAHFqNJhFUK",
        "outputId": "c0009f9c-bce1-4643-f704-4adc4d44f04d"
      },
      "execution_count": null,
      "outputs": [
        {
          "output_type": "stream",
          "name": "stdout",
          "text": [
            "The highest child is Farida\n"
          ]
        }
      ]
    },
    {
      "cell_type": "code",
      "source": [
        "#If the number of keyword arguments is unknown, add a double ** before the parameter name:\n",
        "def my_function(**kid):\n",
        "  print(\"His last name is \" + kid[\"lname\"])\n",
        "\n",
        "my_function(fname = \"Harith\", lname = \"Chillboy\")"
      ],
      "metadata": {
        "colab": {
          "base_uri": "https://localhost:8080/"
        },
        "id": "znfeOhLyhbpG",
        "outputId": "bbbe5e0f-5310-4129-8a56-ed359028128f"
      },
      "execution_count": null,
      "outputs": [
        {
          "output_type": "stream",
          "name": "stdout",
          "text": [
            "His last name is Chillboy\n"
          ]
        }
      ]
    },
    {
      "cell_type": "code",
      "source": [
        "def my_function(country = \"Bandung\"):\n",
        "  print(\"Saya dari \" + country)\n",
        "\n",
        "my_function(\"Kendari\")\n",
        "my_function(\"Bangkok\")\n",
        "my_function()\n",
        "my_function(\"Seoul\")"
      ],
      "metadata": {
        "colab": {
          "base_uri": "https://localhost:8080/"
        },
        "id": "PZwqSBhghutC",
        "outputId": "943d25c8-9d78-40d0-f197-1793269f892c"
      },
      "execution_count": null,
      "outputs": [
        {
          "output_type": "stream",
          "name": "stdout",
          "text": [
            "Saya dari Kendari\n",
            "Saya dari Bangkok\n",
            "Saya dari Bandung\n",
            "Saya dari Seoul\n"
          ]
        }
      ]
    },
    {
      "cell_type": "code",
      "source": [
        "def my_function(food):\n",
        "  for x in food:\n",
        "    print(x)\n",
        "\n",
        "vegetables = [\"Spinach\", \"mustard\", \"Cabbage\"]\n",
        "\n",
        "my_function(vegetables)"
      ],
      "metadata": {
        "colab": {
          "base_uri": "https://localhost:8080/"
        },
        "id": "j7mFH7I3iFtX",
        "outputId": "81862cfb-93be-49e0-a4ae-e6bbf8ca5ac0"
      },
      "execution_count": null,
      "outputs": [
        {
          "output_type": "stream",
          "name": "stdout",
          "text": [
            "Spinach\n",
            "mustard\n",
            "Cabbage\n"
          ]
        }
      ]
    },
    {
      "cell_type": "code",
      "source": [
        "def my_function(x):\n",
        "  return 9 * x\n",
        "\n",
        "print(my_function(2))\n",
        "print(my_function(3))\n",
        "print(my_function(4))"
      ],
      "metadata": {
        "colab": {
          "base_uri": "https://localhost:8080/"
        },
        "id": "iwXORqP1ieSN",
        "outputId": "3643de15-d4d8-4d95-d5af-401c31f4c6a4"
      },
      "execution_count": null,
      "outputs": [
        {
          "output_type": "stream",
          "name": "stdout",
          "text": [
            "18\n",
            "27\n",
            "36\n"
          ]
        }
      ]
    },
    {
      "cell_type": "code",
      "source": [
        "def myfunction():\n",
        "  pass"
      ],
      "metadata": {
        "id": "8ztlDiGFip7p"
      },
      "execution_count": null,
      "outputs": []
    },
    {
      "cell_type": "code",
      "source": [
        "# Contoh Rekursi\n",
        "def hitung_rekursi(n):\n",
        "    if n > 0:\n",
        "        hasil = n + hitung_rekursi(n - 2)\n",
        "        print(hasil)\n",
        "    else:\n",
        "        hasil = 0\n",
        "    return hasil\n",
        "\n",
        "print(\"\\n\\nHasil Contoh Rekursi\")\n",
        "hitung_rekursi(6)"
      ],
      "metadata": {
        "colab": {
          "base_uri": "https://localhost:8080/"
        },
        "id": "tOGqEoy1itzi",
        "outputId": "2e47a5bb-67ca-4cf7-d1aa-cc2d691b9c5c"
      },
      "execution_count": null,
      "outputs": [
        {
          "output_type": "stream",
          "name": "stdout",
          "text": [
            "\n",
            "\n",
            "Hasil Contoh Rekursi\n",
            "2\n",
            "6\n",
            "12\n"
          ]
        },
        {
          "output_type": "execute_result",
          "data": {
            "text/plain": [
              "12"
            ]
          },
          "metadata": {},
          "execution_count": 21
        }
      ]
    },
    {
      "cell_type": "markdown",
      "source": [
        "Quiz 1"
      ],
      "metadata": {
        "id": "SJpPTDcIkVrv"
      }
    },
    {
      "cell_type": "code",
      "source": [
        "# Mendefinisikan fungsi\n",
        "def my_function():\n",
        "    print(\"Abdi Handiya\")\n",
        "\n",
        "# Menjalankan fungsi\n",
        "my_function()"
      ],
      "metadata": {
        "colab": {
          "base_uri": "https://localhost:8080/"
        },
        "id": "EzDv-cQujgLc",
        "outputId": "5aa544e8-77c8-4860-dd50-bde21f00bbb8"
      },
      "execution_count": null,
      "outputs": [
        {
          "output_type": "stream",
          "name": "stdout",
          "text": [
            "Abdi Handiya\n"
          ]
        }
      ]
    },
    {
      "cell_type": "markdown",
      "source": [
        "Quiz 2"
      ],
      "metadata": {
        "id": "KkJ9D6Qylac6"
      }
    },
    {
      "cell_type": "code",
      "source": [
        "# Mendefinisikan fungsi dengan dua parameter\n",
        "def fungsi_saya(param1, param2):\n",
        "    print(param1)\n",
        "\n",
        "# Menjalankan fungsi dengan contoh argumen\n",
        "fungsi_saya(\"Hai,\", \"Ini parameter kedua.\")"
      ],
      "metadata": {
        "colab": {
          "base_uri": "https://localhost:8080/"
        },
        "id": "2e2Lg9bQk8AD",
        "outputId": "6d8bb064-9b39-4487-be5c-90441cd41be8"
      },
      "execution_count": null,
      "outputs": [
        {
          "output_type": "stream",
          "name": "stdout",
          "text": [
            "Hai,\n"
          ]
        }
      ]
    },
    {
      "cell_type": "code",
      "source": [
        "# Fungsi rekursif untuk menghitung faktorial\n",
        "angka = int(input(\"Masukkan Bilangan Bulat Non-Negatif : \"))\n",
        "def faktorial(n):\n",
        "    if n > 1:\n",
        "        result = n * faktorial(n - 1)\n",
        "        return result\n",
        "    else:\n",
        "        return 1\n",
        "\n",
        "if angka < 0:\n",
        "    print(\"Faktorial tidak terdefinisi untuk bilangan negatif.\")\n",
        "else:\n",
        "    hasil = faktorial(angka)\n",
        "    print(f\"Faktorial dari {angka} yaitu {hasil}.\")"
      ],
      "metadata": {
        "colab": {
          "base_uri": "https://localhost:8080/"
        },
        "id": "WB869_sDl_0x",
        "outputId": "401294b3-5b90-4aab-9f43-51ded98108cf"
      },
      "execution_count": null,
      "outputs": [
        {
          "output_type": "stream",
          "name": "stdout",
          "text": [
            "Masukkan Bilangan Bulat Non-Negatif : 8\n",
            "Faktorial dari 8 yaitu 40320.\n"
          ]
        }
      ]
    },
    {
      "cell_type": "code",
      "source": [
        "import math\n",
        "\n",
        "def luas_lingkaran():\n",
        "    radius = float(input(\"Masukkan jari-jari lingkaran: \"))\n",
        "    luas = math.pi * radius ** 2\n",
        "    print(f\"Luas lingkaran: {luas:.2f}\")\n",
        "\n",
        "def luas_persegi():\n",
        "    sisi = float(input(\"Masukkan panjang sisi persegi: \"))\n",
        "    luas = sisi ** 2\n",
        "    print(f\"Luas persegi: {luas:.2f}\")\n",
        "\n",
        "def luas_segitiga():\n",
        "    alas = float(input(\"Masukkan panjang alas segitiga: \"))\n",
        "    tinggi = float(input(\"Masukkan tinggi segitiga: \"))\n",
        "    luas = 0.5 * alas * tinggi\n",
        "    print(f\"Luas segitiga: {luas:.2f}\")\n",
        "\n",
        "def kalkulator_luas():\n",
        "    while True:\n",
        "        print(\"\\nKalkulator Luas Bangun Datar\")\n",
        "        print(\"1. Luas Lingkaran\")\n",
        "        print(\"2. Luas Persegi\")\n",
        "        print(\"3. Luas Segitiga\")\n",
        "        print(\"4. Selesai\")\n",
        "\n",
        "        pilihan = input(\"Pilih perhitungan (1/2/3/4): \")\n",
        "\n",
        "        if pilihan == '1':\n",
        "            luas_lingkaran()\n",
        "        elif pilihan == '2':\n",
        "            luas_persegi()\n",
        "        elif pilihan == '3':\n",
        "            luas_segitiga()\n",
        "        elif pilihan == '4':\n",
        "            print(\"Program selesai.\")\n",
        "            break\n",
        "        else:\n",
        "            print(\"Pilihan tidak valid, coba lagi.\")\n",
        "\n",
        "kalkulator_luas()"
      ],
      "metadata": {
        "colab": {
          "base_uri": "https://localhost:8080/"
        },
        "id": "9Ki905buejc4",
        "outputId": "0bd1eb31-9fb2-49e1-ffef-7d67a0a49937"
      },
      "execution_count": null,
      "outputs": [
        {
          "output_type": "stream",
          "name": "stdout",
          "text": [
            "\n",
            "Kalkulator Luas Bangun Datar\n",
            "1. Luas Lingkaran\n",
            "2. Luas Persegi\n",
            "3. Luas Segitiga\n",
            "4. Selesai\n",
            "Pilih perhitungan (1/2/3/4): 3\n",
            "Masukkan panjang alas segitiga: 5\n",
            "Masukkan tinggi segitiga: 7\n",
            "Luas segitiga: 17.50\n",
            "\n",
            "Kalkulator Luas Bangun Datar\n",
            "1. Luas Lingkaran\n",
            "2. Luas Persegi\n",
            "3. Luas Segitiga\n",
            "4. Selesai\n",
            "Pilih perhitungan (1/2/3/4): 4\n",
            "Program selesai.\n"
          ]
        }
      ]
    }
  ]
}