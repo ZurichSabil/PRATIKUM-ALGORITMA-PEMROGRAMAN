{
  "nbformat": 4,
  "nbformat_minor": 0,
  "metadata": {
    "colab": {
      "provenance": [],
      "authorship_tag": "ABX9TyOYhgM12XMtLAMRRFtGG7wz",
      "include_colab_link": true
    },
    "kernelspec": {
      "name": "python3",
      "display_name": "Python 3"
    },
    "language_info": {
      "name": "python"
    }
  },
  "cells": [
    {
      "cell_type": "markdown",
      "metadata": {
        "id": "view-in-github",
        "colab_type": "text"
      },
      "source": [
        "<a href=\"https://colab.research.google.com/github/ZurichSabil/PRATIKUM-ALGORITMA-PEMROGRAMAN/blob/main/LiveUTS_2430506057_(soal_1).ipynb\" target=\"_parent\"><img src=\"https://colab.research.google.com/assets/colab-badge.svg\" alt=\"Open In Colab\"/></a>"
      ]
    },
    {
      "cell_type": "code",
      "source": [
        "npm = input(\"Masukkan NPM Anda: \")\n",
        "genap = 0\n",
        "ganjil = 0\n",
        "\n",
        "for i in npm:\n",
        "  if int(i) % 2 == 0:\n",
        "    genap += 1\n",
        "  else:\n",
        "    ganjil += 1\n",
        "\n",
        "print(\"Jumlah Genap:\", str(genap))\n",
        "print(\"Juumlah Ganjil\", str(ganjil))"
      ],
      "metadata": {
        "colab": {
          "base_uri": "https://localhost:8080/"
        },
        "id": "wZP9t6eG8M6U",
        "outputId": "d5df125e-41cb-49af-f9b6-8309da4b880a"
      },
      "execution_count": null,
      "outputs": [
        {
          "output_type": "stream",
          "name": "stdout",
          "text": [
            "Masukkan NPM Anda: 2430506057\n",
            "Jumlah Genap: 6\n",
            "Juumlah Ganjil 4\n"
          ]
        }
      ]
    }
  ]
}