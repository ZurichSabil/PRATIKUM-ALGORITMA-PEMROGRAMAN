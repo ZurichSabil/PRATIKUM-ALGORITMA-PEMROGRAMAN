{
  "nbformat": 4,
  "nbformat_minor": 0,
  "metadata": {
    "colab": {
      "provenance": [],
      "authorship_tag": "ABX9TyOHU3KxuVHbY2ZhbqVooPFB",
      "include_colab_link": true
    },
    "kernelspec": {
      "name": "python3",
      "display_name": "Python 3"
    },
    "language_info": {
      "name": "python"
    }
  },
  "cells": [
    {
      "cell_type": "markdown",
      "metadata": {
        "id": "view-in-github",
        "colab_type": "text"
      },
      "source": [
        "<a href=\"https://colab.research.google.com/github/ZurichSabil/PRATIKUM-ALGORITMA-PEMROGRAMAN/blob/main/LiveUTS_2430506057_(soal_1).ipynb\" target=\"_parent\"><img src=\"https://colab.research.google.com/assets/colab-badge.svg\" alt=\"Open In Colab\"/></a>"
      ]
    },
    {
      "cell_type": "code",
      "source": [
        "def hitung_bilangan_ganjil_genap(NPM):\n",
        "  genap = 0\n",
        "  ganjil = 0\n",
        "\n",
        "  for digit in NPM:\n",
        "      if int(digit) % 2 == 0:\n",
        "          genap += 1\n",
        "      else:\n",
        "          ganjil += 1\n",
        "\n",
        "  return genap, ganjil\n",
        "\n",
        "if __name__ == \"__main__\":\n",
        "  NPM = input(\"Masukkan NPM Anda: \")\n",
        "  jumlah_bilangan_genap, jumlah_bilangan_ganjil = hitung_bilangan_ganjil_genap(NPM)\n",
        "\n",
        "  print(f\"Jumlah bilangan genap: {jumlah_bilangan_genap}\")\n",
        "  print(f\"Jumlah bilangan ganjil: {jumlah_bilangan_ganjil}\")"
      ],
      "metadata": {
        "colab": {
          "base_uri": "https://localhost:8080/"
        },
        "id": "9I3x3QPKem0T",
        "outputId": "7abcaa67-11e2-4500-e4e1-7353f6e40575"
      },
      "execution_count": null,
      "outputs": [
        {
          "output_type": "stream",
          "name": "stdout",
          "text": [
            "Masukkan NPM Anda: 2430506057\n",
            "Jumlah bilangan genap: 6\n",
            "Jumlah bilangan ganjil: 4\n"
          ]
        }
      ]
    }
  ]
}