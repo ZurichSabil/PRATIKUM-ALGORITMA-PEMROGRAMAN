{
  "cells": [
    {
      "cell_type": "markdown",
      "metadata": {
        "id": "view-in-github",
        "colab_type": "text"
      },
      "source": [
        "<a href=\"https://colab.research.google.com/github/ZurichSabil/PRATIKUM-ALGORITMA-PEMROGRAMAN/blob/main/LAPORAN_PRATIKUM_KE_ENAM_ALGORITMA_PEMROGRAMAN.ipynb\" target=\"_parent\"><img src=\"https://colab.research.google.com/assets/colab-badge.svg\" alt=\"Open In Colab\"/></a>"
      ]
    },
    {
      "cell_type": "code",
      "execution_count": null,
      "metadata": {
        "colab": {
          "base_uri": "https://localhost:8080/"
        },
        "id": "beSJ9YimbBXn",
        "outputId": "04b2e8b1-7960-4579-f97d-9c943dad1335"
      },
      "outputs": [
        {
          "data": {
            "text/plain": [
              "range(0, 5)"
            ]
          },
          "execution_count": 6,
          "metadata": {},
          "output_type": "execute_result"
        }
      ],
      "source": [
        "# Use the range\n",
        "\n",
        "range(5)"
      ]
    },
    {
      "cell_type": "code",
      "execution_count": null,
      "metadata": {
        "colab": {
          "base_uri": "https://localhost:8080/"
        },
        "id": "Z-L48IsygWzx",
        "outputId": "15f1f872-f571-4a28-868e-06795543d1b4"
      },
      "outputs": [
        {
          "name": "stdout",
          "output_type": "stream",
          "text": [
            "2007\n",
            "2002\n",
            "2000\n"
          ]
        }
      ],
      "source": [
        "# For loop example\n",
        "\n",
        "dates = [2007,2002,2000]\n",
        "N = len(dates)\n",
        "\n",
        "for i in range(N):\n",
        "    print(dates[i])"
      ]
    },
    {
      "cell_type": "code",
      "execution_count": null,
      "metadata": {
        "colab": {
          "base_uri": "https://localhost:8080/"
        },
        "id": "AqLia_Ijhkum",
        "outputId": "85fde369-416c-4aec-eea0-3741bb8a9f35"
      },
      "outputs": [
        {
          "name": "stdout",
          "output_type": "stream",
          "text": [
            "0\n",
            "1\n",
            "2\n",
            "3\n",
            "4\n",
            "5\n"
          ]
        }
      ],
      "source": [
        "# Example of for loop\n",
        "\n",
        "for i in range(0, 6):\n",
        "    print(i)"
      ]
    },
    {
      "cell_type": "code",
      "execution_count": null,
      "metadata": {
        "colab": {
          "base_uri": "https://localhost:8080/"
        },
        "id": "K1X3RXniiEDa",
        "outputId": "f984eff5-1722-4e64-985f-f559a48c44f0"
      },
      "outputs": [
        {
          "name": "stdout",
          "output_type": "stream",
          "text": [
            "2007\n",
            "2002\n",
            "2000\n"
          ]
        }
      ],
      "source": [
        "# Exmaple of for loop, loop through list\n",
        "\n",
        "for year in dates:\n",
        "    print(year)"
      ]
    },
    {
      "cell_type": "code",
      "execution_count": null,
      "metadata": {
        "colab": {
          "base_uri": "https://localhost:8080/"
        },
        "id": "FLyRxd6HjB3a",
        "outputId": "77fe79f1-980f-4cbb-cf46-0fb37cb64e2d"
      },
      "outputs": [
        {
          "name": "stdout",
          "output_type": "stream",
          "text": [
            "Before square  0 is red\n",
            "After square  0 is weight\n",
            "Before square  1 is yellow\n",
            "After square  1 is weight\n",
            "Before square  2 is green\n",
            "After square  2 is weight\n",
            "Before square  3 is purple\n",
            "After square  3 is weight\n",
            "Before square  4 is blue\n",
            "After square  4 is weight\n"
          ]
        }
      ],
      "source": [
        "# Use for loop to change the elements in list\n",
        "\n",
        "squares = ['red', 'yellow', 'green', 'purple', 'blue']\n",
        "\n",
        "for i in range(0, 5):\n",
        "    print(\"Before square \", i, 'is',  squares[i])\n",
        "    squares[i] = 'weight'\n",
        "    print(\"After square \", i, 'is',  squares[i])"
      ]
    },
    {
      "cell_type": "code",
      "execution_count": null,
      "metadata": {
        "colab": {
          "base_uri": "https://localhost:8080/"
        },
        "id": "W4neaI-ojlUb",
        "outputId": "26ea13c6-6646-47d8-90bf-070bf9bcaad8"
      },
      "outputs": [
        {
          "name": "stdout",
          "output_type": "stream",
          "text": [
            "0 red\n",
            "1 yellow\n",
            "2 green\n",
            "3 purple\n",
            "4 blue\n"
          ]
        }
      ],
      "source": [
        "# Loop through the list and iterate on both index and element value\n",
        "\n",
        "squares=['red', 'yellow', 'green', 'purple', 'blue']\n",
        "\n",
        "for i, square in enumerate(squares):\n",
        "    print(i, square)"
      ]
    },
    {
      "cell_type": "code",
      "execution_count": null,
      "metadata": {
        "colab": {
          "base_uri": "https://localhost:8080/"
        },
        "id": "P9QNnbZwkXC_",
        "outputId": "07e62739-1811-4ea5-aef4-d6fffc225188"
      },
      "outputs": [
        {
          "name": "stdout",
          "output_type": "stream",
          "text": [
            "2003\n",
            "2001\n",
            "2004\n",
            "It took  3 repetitions to get out of loop.\n"
          ]
        }
      ],
      "source": [
        "# While Loop Example\n",
        "\n",
        "dates = [2003, 2001, 2004, 2007]\n",
        "\n",
        "i = 0\n",
        "year = 0\n",
        "\n",
        "while(year != 2004):\n",
        "    year = dates[i]\n",
        "    i = i + 1\n",
        "    print(year)\n",
        "\n",
        "print(\"It took \", i ,\"repetitions to get out of loop.\")"
      ]
    },
    {
      "cell_type": "code",
      "execution_count": null,
      "metadata": {
        "colab": {
          "base_uri": "https://localhost:8080/"
        },
        "id": "ZRuCL4_4m0w3",
        "outputId": "d0890574-3dc7-4483-f8d6-53c10aadc733"
      },
      "outputs": [
        {
          "name": "stdout",
          "output_type": "stream",
          "text": [
            "1 2 3 4 5 6 7 8 9 10 11 12 \n",
            "2 4 6 8 10 12 14 16 18 20 22 24 \n",
            "3 6 9 12 15 18 21 24 27 30 33 36 \n",
            "4 8 12 16 20 24 28 32 36 40 44 48 \n",
            "5 10 15 20 25 30 35 40 45 50 55 60 \n",
            "6 12 18 24 30 36 42 48 54 60 66 72 \n",
            "7 14 21 28 35 42 49 56 63 70 77 84 \n",
            "8 16 24 32 40 48 56 64 72 80 88 96 \n",
            "9 18 27 36 45 54 63 72 81 90 99 108 \n",
            "10 20 30 40 50 60 70 80 90 100 110 120 \n",
            "11 22 33 44 55 66 77 88 99 110 121 132 \n",
            "12 24 36 48 60 72 84 96 108 120 132 144 \n"
          ]
        }
      ],
      "source": [
        "# outer loop\n",
        "for i in range(1, 13):\n",
        "    # nested loop\n",
        "    # to iterate from 1 to 12\n",
        "    for j in range(1, 13):\n",
        "        # print multiplication\n",
        "        print(i * j, end=' ')\n",
        "    print()"
      ]
    },
    {
      "cell_type": "code",
      "execution_count": null,
      "metadata": {
        "colab": {
          "base_uri": "https://localhost:8080/"
        },
        "id": "lIykg8qve4Nl",
        "outputId": "084f1a5f-7443-4723-f1dc-98c18b63d0a1"
      },
      "outputs": [
        {
          "name": "stdout",
          "output_type": "stream",
          "text": [
            "Rizky Rizky Rizky Rizky Rizky \n",
            "Tegar Tegar Tegar Tegar Tegar \n",
            "Frendi Frendi Frendi Frendi Frendi \n"
          ]
        }
      ],
      "source": [
        "names = ['Rizky', 'Tegar', 'Frendi']\n",
        "# outer loop\n",
        "for name in names:\n",
        "    # inner while loop\n",
        "    count = 0\n",
        "    while count < 5:\n",
        "        print(name, end=' ')\n",
        "        # increment counter\n",
        "        count = count + 1\n",
        "    print()"
      ]
    },
    {
      "cell_type": "code",
      "execution_count": null,
      "metadata": {
        "colab": {
          "base_uri": "https://localhost:8080/"
        },
        "id": "SZRZtbb8gpFr",
        "outputId": "18e8ecd5-3a93-4036-8700-e9de68a465d5"
      },
      "outputs": [
        {
          "name": "stdout",
          "output_type": "stream",
          "text": [
            "1 0\n",
            "2 0\n",
            "2 1\n",
            "3 0\n",
            "3 1\n",
            "3 2\n",
            "4 0\n",
            "4 1\n",
            "4 2\n",
            "4 3\n"
          ]
        }
      ],
      "source": [
        "for i in range(5):\n",
        "    for j in range(5):\n",
        "        if j == i:\n",
        "            break\n",
        "        print(i, j)"
      ]
    },
    {
      "cell_type": "code",
      "execution_count": null,
      "metadata": {
        "colab": {
          "base_uri": "https://localhost:8080/"
        },
        "id": "1mV6csGpi7xa",
        "outputId": "e8e6c2db-2dc3-47b6-9acc-769399fd05ad"
      },
      "outputs": [
        {
          "name": "stdout",
          "output_type": "stream",
          "text": [
            "2 * 5 =  10\n",
            "2 * 7 =  14\n",
            "5 * 2 =  10\n",
            "5 * 7 =  35\n",
            "7 * 2 =  14\n",
            "7 * 5 =  35\n"
          ]
        }
      ],
      "source": [
        "first = [2, 5, 7]\n",
        "second = [2, 5, 7]\n",
        "for i in first:\n",
        "    for j in second:\n",
        "        if i == j:\n",
        "            continue\n",
        "        print(i, '*', j, '= ', i * j)"
      ]
    },
    {
      "cell_type": "markdown",
      "metadata": {
        "id": "E28AXR-Dknjk"
      },
      "source": [
        "while expression:\n",
        "    while expression:\n",
        "      statement(s)\n",
        "    statement(s)"
      ]
    },
    {
      "cell_type": "code",
      "execution_count": null,
      "metadata": {
        "colab": {
          "base_uri": "https://localhost:8080/"
        },
        "id": "93624X01kuaa",
        "outputId": "3bb36d60-7734-48d4-830f-ebda660c9941"
      },
      "outputs": [
        {
          "name": "stdout",
          "output_type": "stream",
          "text": [
            "123456789101112\n",
            "123456789101112\n",
            "123456789101112\n"
          ]
        }
      ],
      "source": [
        "i = 1\n",
        "while i <= 3:\n",
        "    j = 1\n",
        "    while j <= 12:\n",
        "        print(j, end='')\n",
        "        j = j + 1\n",
        "    i = i + 1\n",
        "    print()"
      ]
    },
    {
      "cell_type": "code",
      "execution_count": null,
      "metadata": {
        "colab": {
          "base_uri": "https://localhost:8080/"
        },
        "id": "OFXeviMzmqUb",
        "outputId": "6f79c6c5-0709-4694-ee69-d2cf657109af"
      },
      "outputs": [
        {
          "name": "stdout",
          "output_type": "stream",
          "text": [
            "Show Perfect number fom 1 to 64\n",
            "Perfect number: 6\n",
            "Perfect number: 28\n"
          ]
        }
      ],
      "source": [
        "print('Show Perfect number fom 1 to 64')\n",
        "n = 2\n",
        "# outer while loop\n",
        "while n <= 64 :\n",
        "    x_sum = 0\n",
        "    # inner for loop\n",
        "    for i in range(1, n):\n",
        "        if n % i == 0:\n",
        "            x_sum += i\n",
        "    if x_sum == n:\n",
        "        print('Perfect number:', n)\n",
        "    n += 1\n"
      ]
    },
    {
      "cell_type": "code",
      "execution_count": null,
      "metadata": {
        "colab": {
          "base_uri": "https://localhost:8080/"
        },
        "id": "0nuRTczty3O8",
        "outputId": "8d1a7212-76ed-4046-e406-4646a5214988"
      },
      "outputs": [
        {
          "name": "stdout",
          "output_type": "stream",
          "text": [
            "-5\n",
            "-4\n",
            "-3\n",
            "-2\n",
            "-1\n",
            "0\n",
            "1\n",
            "2\n",
            "3\n",
            "4\n",
            "5\n"
          ]
        }
      ],
      "source": [
        "for angka in range(-5, 6):\n",
        "  print(angka)"
      ]
    },
    {
      "cell_type": "code",
      "execution_count": null,
      "metadata": {
        "colab": {
          "base_uri": "https://localhost:8080/"
        },
        "id": "Tc4RWtsC1MHs",
        "outputId": "cad25f05-748a-49e5-c438-a3cde0ff43d6"
      },
      "outputs": [
        {
          "name": "stdout",
          "output_type": "stream",
          "text": [
            "rock\n",
            "R&B\n",
            "Soundtrack\n",
            "R&B\n",
            "soul\n",
            "pop\n"
          ]
        }
      ],
      "source": [
        "Genres = ['rock', 'R&B', 'Soundtrack', 'R&B', 'soul', 'pop']\n",
        "\n",
        "for genre in Genres:\n",
        "    print(genre)"
      ]
    },
    {
      "cell_type": "code",
      "execution_count": null,
      "metadata": {
        "colab": {
          "base_uri": "https://localhost:8080/"
        },
        "id": "4stVLFM23ZJQ",
        "outputId": "bd915049-1b1d-40ef-e5be-b213e3ee3e17"
      },
      "outputs": [
        {
          "name": "stdout",
          "output_type": "stream",
          "text": [
            "red\n",
            "yellow\n",
            "green\n",
            "purple\n",
            "blue\n"
          ]
        }
      ],
      "source": [
        "squares = ['red', 'yellow', 'green', 'purple', 'blue']\n",
        "\n",
        "for color in squares:\n",
        "  print(color)"
      ]
    },
    {
      "cell_type": "code",
      "execution_count": null,
      "metadata": {
        "colab": {
          "base_uri": "https://localhost:8080/"
        },
        "id": "isFynztK7lgS",
        "outputId": "3e1141a1-7fa2-4e74-b52f-24897f51ef51"
      },
      "outputs": [
        {
          "name": "stdout",
          "output_type": "stream",
          "text": [
            "10\n",
            "9.5\n",
            "10\n",
            "8\n",
            "7.5\n"
          ]
        }
      ],
      "source": [
        "PlayListRatings = [10, 9.5, 10, 8, 7.5, 5, 10, 10]\n",
        "i = 0\n",
        "\n",
        "while i < len(PlayListRatings):\n",
        "  if PlayListRatings[i] < 6:\n",
        "    break\n",
        "  print(PlayListRatings[i])\n",
        "  i += 1"
      ]
    },
    {
      "cell_type": "code",
      "execution_count": null,
      "metadata": {
        "colab": {
          "base_uri": "https://localhost:8080/"
        },
        "id": "gk1TY5MO8VMJ",
        "outputId": "010522bc-c489-4b77-c91f-0f544b049ba9"
      },
      "outputs": [
        {
          "name": "stdout",
          "output_type": "stream",
          "text": [
            "['orange']\n"
          ]
        }
      ],
      "source": [
        "squares = ['orange', 'blue', 'orange', 'green', 'orange']\n",
        "new_squares = []\n",
        "i = 0\n",
        "\n",
        "while i < len(squares):\n",
        "  if squares[i] != 'orange':\n",
        "    break\n",
        "  new_squares.append(squares[i])\n",
        "  i += 1\n",
        "\n",
        "print(new_squares)"
      ]
    },
    {
      "cell_type": "code",
      "execution_count": null,
      "metadata": {
        "colab": {
          "base_uri": "https://localhost:8080/"
        },
        "id": "BG1pMnBisotL",
        "outputId": "56f91e2a-797d-4963-8e7d-200530fd74a1"
      },
      "outputs": [
        {
          "name": "stdout",
          "output_type": "stream",
          "text": [
            "Masukan Angka7\n",
            "       * \n",
            "      * * \n",
            "     * * * \n",
            "    * * * * \n",
            "   * * * * * \n",
            "  * * * * * * \n",
            " * * * * * * * \n"
          ]
        }
      ],
      "source": [
        "num = int(input(\"Masukan Angka\"))\n",
        "for i in range(1, num + 1):\n",
        "  print(\" \" *(num - i), end=\" \")\n",
        "  for j in range(1, i + 1):\n",
        "    print (\"*\", end=\" \")\n",
        "  print()"
      ]
    },
    {
      "cell_type": "code",
      "execution_count": null,
      "metadata": {
        "colab": {
          "base_uri": "https://localhost:8080/"
        },
        "id": "o6j3uk-jrvmD",
        "outputId": "4179b9c7-4e28-4d17-cc3a-40f8ef96274a"
      },
      "outputs": [
        {
          "name": "stdout",
          "output_type": "stream",
          "text": [
            "Tuliskan angka: 5\n",
            "    1    \n",
            "   1 1   \n",
            "  1 2 1  \n",
            " 1 3 3 1 \n",
            "1 4 6 4 1\n"
          ]
        }
      ],
      "source": [
        "n = int(input(\"Tuliskan angka: \"))\n",
        "res = [[1]]\n",
        "\n",
        "for i in range(1, n):\n",
        "    line = [1]\n",
        "    for j in range(1, i):\n",
        "        line.append(res[-1][j-1] + res[-1][j])\n",
        "    line.append(1)\n",
        "    res.append(line)\n",
        "\n",
        "max_width = len(\" \".join(map(str, res[-1])))\n",
        "\n",
        "for line in res:\n",
        "    print(\" \".join(map(str, line)).center(max_width, ' '))"
      ]
    },
    {
      "cell_type": "code",
      "execution_count": 1,
      "metadata": {
        "colab": {
          "base_uri": "https://localhost:8080/"
        },
        "id": "lCKodL0nruY1",
        "outputId": "b3614c30-f2c7-48fe-ad64-c06d6ef88f81"
      },
      "outputs": [
        {
          "output_type": "stream",
          "name": "stdout",
          "text": [
            "Masukkan Jumlah Baris : 5\n",
            "1 4 6 4 1 Jumlah Angka dalam baris 5 adalah: 16\n"
          ]
        }
      ],
      "source": [
        "dasar = 1\n",
        "total = 0\n",
        "baris = int(input(\"Masukkan Jumlah Baris : \"))\n",
        "\n",
        "for y in range(baris):\n",
        "  if y == 0:\n",
        "    dasar = 1\n",
        "  else:\n",
        "    dasar = dasar * (baris - y) // y\n",
        "  print(dasar, end=\" \")\n",
        "  total += dasar\n",
        "\n",
        "print(f\"Jumlah Angka dalam baris {baris} adalah: {total}\")"
      ]
    }
  ],
  "metadata": {
    "colab": {
      "provenance": [],
      "authorship_tag": "ABX9TyPTSPsoi8zVfHXiok6ceEIm",
      "include_colab_link": true
    },
    "kernelspec": {
      "display_name": "Python 3",
      "name": "python3"
    },
    "language_info": {
      "name": "python"
    }
  },
  "nbformat": 4,
  "nbformat_minor": 0
}