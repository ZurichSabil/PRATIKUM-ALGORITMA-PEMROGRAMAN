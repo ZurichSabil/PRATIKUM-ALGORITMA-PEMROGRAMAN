{
  "nbformat": 4,
  "nbformat_minor": 0,
  "metadata": {
    "colab": {
      "provenance": [],
      "authorship_tag": "ABX9TyOC0sVclfXde3BzLiPznRTm",
      "include_colab_link": true
    },
    "kernelspec": {
      "name": "python3",
      "display_name": "Python 3"
    },
    "language_info": {
      "name": "python"
    }
  },
  "cells": [
    {
      "cell_type": "markdown",
      "metadata": {
        "id": "view-in-github",
        "colab_type": "text"
      },
      "source": [
        "<a href=\"https://colab.research.google.com/github/ZurichSabil/PRATIKUM-ALGORITMA-PEMROGRAMAN/blob/main/LiveUTS_2430506057_(soal_2).ipynb\" target=\"_parent\"><img src=\"https://colab.research.google.com/assets/colab-badge.svg\" alt=\"Open In Colab\"/></a>"
      ]
    },
    {
      "cell_type": "code",
      "execution_count": null,
      "metadata": {
        "id": "CMHBvpUmkfoR",
        "colab": {
          "base_uri": "https://localhost:8080/"
        },
        "outputId": "e97942d6-791a-485e-f586-298f3c6dc945"
      },
      "outputs": [
        {
          "output_type": "stream",
          "name": "stdout",
          "text": [
            "Masukkan Angka6\n",
            "1 \n",
            "2 4 \n",
            "3 6 9 \n",
            "4 8 12 16 \n",
            "5 10 15 20 25 \n",
            "6 12 18 24 30 36 \n"
          ]
        }
      ],
      "source": [
        "num = int(input(\"Masukkan Angka\"))\n",
        "for i in range(1, num + 1):\n",
        "    for j in range(1, i + 1):\n",
        "\n",
        "        print(i * j, end=' ')\n",
        "    print()"
      ]
    }
  ]
}