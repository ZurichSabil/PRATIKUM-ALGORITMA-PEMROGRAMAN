{
  "cells": [
    {
      "cell_type": "markdown",
      "metadata": {
        "id": "view-in-github",
        "colab_type": "text"
      },
      "source": [
        "<a href=\"https://colab.research.google.com/github/ZurichSabil/PRATIKUM-ALGORITMA-PEMROGRAMAN/blob/main/Pratikum_Minggu_ke_12.ipynb\" target=\"_parent\"><img src=\"https://colab.research.google.com/assets/colab-badge.svg\" alt=\"Open In Colab\"/></a>"
      ]
    },
    {
      "cell_type": "code",
      "execution_count": null,
      "metadata": {
        "colab": {
          "base_uri": "https://localhost:8080/",
          "height": 141
        },
        "id": "CYDQkUtCyfl3",
        "outputId": "bdaf1291-ce7f-460c-9f97-b66415a05f90"
      },
      "outputs": [
        {
          "ename": "NameError",
          "evalue": "name 'x' is not defined",
          "output_type": "error",
          "traceback": [
            "\u001b[0;31m---------------------------------------------------------------------------\u001b[0m",
            "\u001b[0;31mNameError\u001b[0m                                 Traceback (most recent call last)",
            "\u001b[0;32m<ipython-input-4-fc17d851ef81>\u001b[0m in \u001b[0;36m<cell line: 1>\u001b[0;34m()\u001b[0m\n\u001b[0;32m----> 1\u001b[0;31m \u001b[0mprint\u001b[0m\u001b[0;34m(\u001b[0m\u001b[0mx\u001b[0m\u001b[0;34m)\u001b[0m\u001b[0;34m\u001b[0m\u001b[0;34m\u001b[0m\u001b[0m\n\u001b[0m",
            "\u001b[0;31mNameError\u001b[0m: name 'x' is not defined"
          ]
        }
      ],
      "source": [
        "print(x)"
      ]
    },
    {
      "cell_type": "code",
      "execution_count": null,
      "metadata": {
        "colab": {
          "base_uri": "https://localhost:8080/"
        },
        "id": "GMKPSXKo1st2",
        "outputId": "e797af99-7452-4228-881a-00fe20f5fd45"
      },
      "outputs": [
        {
          "name": "stdout",
          "output_type": "stream",
          "text": [
            "Variable 'X' is not defined\n"
          ]
        }
      ],
      "source": [
        "\n",
        "try:\n",
        "  print(x)\n",
        "except:\n",
        "  print(\"Variable 'X' is not defined\")"
      ]
    },
    {
      "cell_type": "code",
      "execution_count": null,
      "metadata": {
        "colab": {
          "base_uri": "https://localhost:8080/",
          "height": 141
        },
        "id": "4ZAIpwE32O5v",
        "outputId": "a61e6170-54bc-4d28-98d7-7734f2a03d47"
      },
      "outputs": [
        {
          "ename": "NameError",
          "evalue": "name 'x' is not defined",
          "output_type": "error",
          "traceback": [
            "\u001b[0;31m---------------------------------------------------------------------------\u001b[0m",
            "\u001b[0;31mNameError\u001b[0m                                 Traceback (most recent call last)",
            "\u001b[0;32m<ipython-input-9-fc17d851ef81>\u001b[0m in \u001b[0;36m<cell line: 1>\u001b[0;34m()\u001b[0m\n\u001b[0;32m----> 1\u001b[0;31m \u001b[0mprint\u001b[0m\u001b[0;34m(\u001b[0m\u001b[0mx\u001b[0m\u001b[0;34m)\u001b[0m\u001b[0;34m\u001b[0m\u001b[0;34m\u001b[0m\u001b[0m\n\u001b[0m",
            "\u001b[0;31mNameError\u001b[0m: name 'x' is not defined"
          ]
        }
      ],
      "source": [
        "\n",
        "print(x)"
      ]
    },
    {
      "cell_type": "code",
      "execution_count": null,
      "metadata": {
        "colab": {
          "base_uri": "https://localhost:8080/",
          "height": 176
        },
        "id": "v7XirGZA2ogI",
        "outputId": "5bdc9c7d-9790-40b5-b70f-671f83ffe852"
      },
      "outputs": [
        {
          "ename": "TypeError",
          "evalue": "unsupported operand type(s) for /: 'str' and 'int'",
          "output_type": "error",
          "traceback": [
            "\u001b[0;31m---------------------------------------------------------------------------\u001b[0m",
            "\u001b[0;31mTypeError\u001b[0m                                 Traceback (most recent call last)",
            "\u001b[0;32m<ipython-input-10-ffe1fe859566>\u001b[0m in \u001b[0;36m<cell line: 2>\u001b[0;34m()\u001b[0m\n\u001b[1;32m      1\u001b[0m \u001b[0mV\u001b[0m \u001b[0;34m=\u001b[0m \u001b[0;34m\"RWTH\"\u001b[0m\u001b[0;34m\u001b[0m\u001b[0;34m\u001b[0m\u001b[0m\n\u001b[0;32m----> 2\u001b[0;31m \u001b[0mZ\u001b[0m \u001b[0;34m=\u001b[0m \u001b[0mV\u001b[0m \u001b[0;34m/\u001b[0m \u001b[0;36m2\u001b[0m\u001b[0;34m\u001b[0m\u001b[0;34m\u001b[0m\u001b[0m\n\u001b[0m\u001b[1;32m      3\u001b[0m \u001b[0mZ\u001b[0m\u001b[0;34m\u001b[0m\u001b[0;34m\u001b[0m\u001b[0m\n",
            "\u001b[0;31mTypeError\u001b[0m: unsupported operand type(s) for /: 'str' and 'int'"
          ]
        }
      ],
      "source": [
        "V = \"RWTH\"\n",
        "Z = V / 2\n",
        "Z"
      ]
    },
    {
      "cell_type": "code",
      "execution_count": null,
      "metadata": {
        "colab": {
          "base_uri": "https://localhost:8080/"
        },
        "id": "IzHRrbyS3H53",
        "outputId": "a518027c-cc5c-447e-efa1-b555e882968d"
      },
      "outputs": [
        {
          "name": "stdout",
          "output_type": "stream",
          "text": [
            "Variable x is not defined\n"
          ]
        }
      ],
      "source": [
        "try:\n",
        "  print(x)\n",
        "except NameError:\n",
        "  print(\"Variable x is not defined\")\n",
        "except:\n",
        "  print(\"Something else went wrong\")"
      ]
    },
    {
      "cell_type": "code",
      "execution_count": null,
      "metadata": {
        "colab": {
          "base_uri": "https://localhost:8080/"
        },
        "id": "wV3nGfUM3xRu",
        "outputId": "4a77acae-a48c-44c9-c13a-8a0a13c54e2b"
      },
      "outputs": [
        {
          "name": "stdout",
          "output_type": "stream",
          "text": [
            "Hi\n",
            "There are no error\n"
          ]
        }
      ],
      "source": [
        "try:\n",
        "  print(\"Hi\")\n",
        "except:\n",
        "  print(\"There was an error\")\n",
        "else:\n",
        "  print(\"There are no error\")"
      ]
    },
    {
      "cell_type": "code",
      "execution_count": null,
      "metadata": {
        "colab": {
          "base_uri": "https://localhost:8080/"
        },
        "id": "jfkFsP4E5jVK",
        "outputId": "e4a973e8-f01c-458d-cbdc-ad35d45a5460"
      },
      "outputs": [
        {
          "name": "stdout",
          "output_type": "stream",
          "text": [
            "Hi\n",
            "There are no error\n",
            "Execution Completed\n"
          ]
        }
      ],
      "source": [
        "try:\n",
        "  print(\"Hi\")\n",
        "except:\n",
        "  print(\"There was an error\")\n",
        "else:\n",
        "  print(\"There are no error\")\n",
        "finally:\n",
        "  print(\"Execution Completed\")"
      ]
    },
    {
      "cell_type": "code",
      "execution_count": null,
      "metadata": {
        "colab": {
          "base_uri": "https://localhost:8080/"
        },
        "id": "_wtow6aO7A-4",
        "outputId": "840cc05c-03e1-422f-93c1-b8693aa4bf0b"
      },
      "outputs": [
        {
          "name": "stdout",
          "output_type": "stream",
          "text": [
            "SThere was an error\n",
            "The 'try except' is finished\n"
          ]
        }
      ],
      "source": [
        "try:\n",
        "  print(x)\n",
        "except:\n",
        "  print(\"SThere was an error\")\n",
        "finally:\n",
        "  print(\"The 'try except' is finished\")"
      ]
    },
    {
      "cell_type": "code",
      "execution_count": null,
      "metadata": {
        "colab": {
          "base_uri": "https://localhost:8080/",
          "height": 176
        },
        "id": "bordaY1u7MNZ",
        "outputId": "1fc006d6-d37a-43f0-8cd3-dc597f43b65e"
      },
      "outputs": [
        {
          "ename": "Exception",
          "evalue": "Sorry bro",
          "output_type": "error",
          "traceback": [
            "\u001b[0;31m---------------------------------------------------------------------------\u001b[0m",
            "\u001b[0;31mException\u001b[0m                                 Traceback (most recent call last)",
            "\u001b[0;32m<ipython-input-16-b6be822390a0>\u001b[0m in \u001b[0;36m<cell line: 3>\u001b[0;34m()\u001b[0m\n\u001b[1;32m      2\u001b[0m \u001b[0;34m\u001b[0m\u001b[0m\n\u001b[1;32m      3\u001b[0m \u001b[0;32mif\u001b[0m \u001b[0mx\u001b[0m \u001b[0;34m<\u001b[0m \u001b[0;36m0\u001b[0m\u001b[0;34m:\u001b[0m\u001b[0;34m\u001b[0m\u001b[0;34m\u001b[0m\u001b[0m\n\u001b[0;32m----> 4\u001b[0;31m   \u001b[0;32mraise\u001b[0m \u001b[0mException\u001b[0m\u001b[0;34m(\u001b[0m\u001b[0;34m\"Sorry bro\"\u001b[0m\u001b[0;34m)\u001b[0m\u001b[0;34m\u001b[0m\u001b[0;34m\u001b[0m\u001b[0m\n\u001b[0m",
            "\u001b[0;31mException\u001b[0m: Sorry bro"
          ]
        }
      ],
      "source": [
        "\n",
        "x = -1\n",
        "\n",
        "if x < 0:\n",
        "  raise Exception(\"Sorry bro\")"
      ]
    },
    {
      "cell_type": "code",
      "execution_count": null,
      "metadata": {
        "colab": {
          "base_uri": "https://localhost:8080/",
          "height": 176
        },
        "id": "7AzTugqQtauX",
        "outputId": "127539f2-623f-41c9-c19e-aadaf39a3f34"
      },
      "outputs": [
        {
          "ename": "TypeError",
          "evalue": "Only integers are allowed",
          "output_type": "error",
          "traceback": [
            "\u001b[0;31m---------------------------------------------------------------------------\u001b[0m",
            "\u001b[0;31mTypeError\u001b[0m                                 Traceback (most recent call last)",
            "\u001b[0;32m<ipython-input-17-bc91768a6271>\u001b[0m in \u001b[0;36m<cell line: 3>\u001b[0;34m()\u001b[0m\n\u001b[1;32m      2\u001b[0m \u001b[0;34m\u001b[0m\u001b[0m\n\u001b[1;32m      3\u001b[0m \u001b[0;32mif\u001b[0m \u001b[0;32mnot\u001b[0m \u001b[0mtype\u001b[0m\u001b[0;34m(\u001b[0m\u001b[0mx\u001b[0m\u001b[0;34m)\u001b[0m \u001b[0;32mis\u001b[0m \u001b[0mint\u001b[0m\u001b[0;34m:\u001b[0m\u001b[0;34m\u001b[0m\u001b[0;34m\u001b[0m\u001b[0m\n\u001b[0;32m----> 4\u001b[0;31m   \u001b[0;32mraise\u001b[0m \u001b[0mTypeError\u001b[0m\u001b[0;34m(\u001b[0m\u001b[0;34m\"Only integers are allowed\"\u001b[0m\u001b[0;34m)\u001b[0m\u001b[0;34m\u001b[0m\u001b[0;34m\u001b[0m\u001b[0m\n\u001b[0m",
            "\u001b[0;31mTypeError\u001b[0m: Only integers are allowed"
          ]
        }
      ],
      "source": [
        "x = \"hello\"\n",
        "\n",
        "if not type(x) is int:\n",
        "  raise TypeError(\"Only integers are allowed\")"
      ]
    },
    {
      "cell_type": "code",
      "execution_count": null,
      "metadata": {
        "id": "P-M-9lzalYwk",
        "colab": {
          "base_uri": "https://localhost:8080/"
        },
        "outputId": "f3045c3d-63dc-441b-d532-599173f61d18"
      },
      "outputs": [
        {
          "output_type": "stream",
          "name": "stdout",
          "text": [
            "Masukkan jari-jari lingkaran: \n",
            "Tidak boleh kosong\n",
            "Masukkan jari-jari lingkaran: gfrea\n",
            "Hanya boleh memasukkan angka\n"
          ]
        }
      ],
      "source": [
        "import matematika\n",
        "\n",
        "\n",
        "def get_float_input(prompt):\n",
        "    while True:\n",
        "        user_input = input(prompt)\n",
        "        if not user_input.strip():\n",
        "            print(\"Tidak boleh kosong\")\n",
        "        else:\n",
        "            try:\n",
        "                return float(user_input)\n",
        "            except ValueError:\n",
        "                print(\"Hanya boleh memasukkan angka\")\n",
        "\n",
        "r = get_float_input(\"Masukkan jari-jari lingkaran: \")\n",
        "hasil_luaslingkaran = matematika.llingkaran(r)\n",
        "print(f\"Luas lingkaran dengan jari-jari {r} adalah {hasil_luaslingkaran}\")\n",
        "\n",
        "\n",
        "s = get_float_input(\"Masukkan sisi persegi: \")\n",
        "hasil_luaspersegi = matematika.lpersegi(s)\n",
        "print(f\"Luas persegi dengan sisi {s} adalah {hasil_luaspersegi}\")"
      ]
    },
    {
      "cell_type": "code",
      "source": [
        "\n",
        "def proses_npm(npm):\n",
        "    if not npm.strip():\n",
        "        return \"Tidak Boleh Kosong\"\n",
        "    elif not npm.isdigit():\n",
        "        return \"Hanya bisa memasukkan angka\"\n",
        "    else:\n",
        "\n",
        "        genap = 0\n",
        "        ganjil = 0\n",
        "\n",
        "        try:\n",
        "            for i in npm:\n",
        "\n",
        "                if int(i) % 2 == 0:\n",
        "                    genap += 1\n",
        "                else:\n",
        "                    ganjil += 1\n",
        "\n",
        "            return f\"Jumlah Genap: {genap}\\nJumlah Ganjil: {ganjil}\"\n",
        "\n",
        "        except Exception as e:\n",
        "            return f\"Terjadi kesalahan: {e}\"\n",
        "\n",
        "while True:\n",
        "\n",
        "    npm = input(\"Masukkan NPM Anda/ketik 'keluar' untuk berhenti): \")\n",
        "\n",
        "    if npm.lower() == 'keluar':\n",
        "        print(\"Terima kasih\")\n",
        "        break\n",
        "\n",
        "    hasil = proses_npm(npm)\n",
        "    print(hasil)"
      ],
      "metadata": {
        "colab": {
          "base_uri": "https://localhost:8080/"
        },
        "id": "qJ5yIUMZZDhI",
        "outputId": "50fe4b25-55ae-4523-9964-91647b7502eb"
      },
      "execution_count": null,
      "outputs": [
        {
          "output_type": "stream",
          "name": "stdout",
          "text": [
            "Masukkan NPM Anda/ketik 'keluar' untuk berhenti): \n",
            "Tidak Boleh Kosong\n",
            "Masukkan NPM Anda/ketik 'keluar' untuk berhenti): hfd\n",
            "Hanya bisa memasukkan angka\n",
            "Masukkan NPM Anda/ketik 'keluar' untuk berhenti): 543219865\n",
            "Jumlah Genap: 4\n",
            "Jumlah Ganjil: 5\n",
            "Masukkan NPM Anda/ketik 'keluar' untuk berhenti): keluar\n",
            "Terima kasih\n"
          ]
        }
      ]
    }
  ],
  "metadata": {
    "colab": {
      "provenance": [],
      "authorship_tag": "ABX9TyMAx9b1+KDnCIMPE2CZGo6O",
      "include_colab_link": true
    },
    "kernelspec": {
      "display_name": "Python 3",
      "name": "python3"
    },
    "language_info": {
      "name": "python"
    }
  },
  "nbformat": 4,
  "nbformat_minor": 0
}