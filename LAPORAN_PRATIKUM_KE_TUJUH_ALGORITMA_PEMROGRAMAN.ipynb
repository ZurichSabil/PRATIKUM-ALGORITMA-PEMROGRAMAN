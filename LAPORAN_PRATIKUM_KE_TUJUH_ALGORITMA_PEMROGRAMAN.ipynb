{
  "nbformat": 4,
  "nbformat_minor": 0,
  "metadata": {
    "colab": {
      "provenance": [],
      "authorship_tag": "ABX9TyMnKfpLTUHdopaTIVJtB2EL",
      "include_colab_link": true
    },
    "kernelspec": {
      "name": "python3",
      "display_name": "Python 3"
    },
    "language_info": {
      "name": "python"
    }
  },
  "cells": [
    {
      "cell_type": "markdown",
      "metadata": {
        "id": "view-in-github",
        "colab_type": "text"
      },
      "source": [
        "<a href=\"https://colab.research.google.com/github/ZurichSabil/PRATIKUM-ALGORITMA-PEMROGRAMAN/blob/main/LAPORAN_PRATIKUM_KE_TUJUH_ALGORITMA_PEMROGRAMAN.ipynb\" target=\"_parent\"><img src=\"https://colab.research.google.com/assets/colab-badge.svg\" alt=\"Open In Colab\"/></a>"
      ]
    },
    {
      "cell_type": "code",
      "execution_count": null,
      "metadata": {
        "colab": {
          "base_uri": "https://localhost:8080/"
        },
        "id": "BkP46BIGpWkt",
        "outputId": "e6fb96db-123c-482f-8afd-dd3e1659ea01"
      },
      "outputs": [
        {
          "output_type": "stream",
          "name": "stdout",
          "text": [
            "['Ngaliyan', 'Kendal', 'Boja']\n"
          ]
        }
      ],
      "source": [
        "#create aq list\n",
        "\n",
        "thislist = [\"Ngaliyan\", \"Kendal\", \"Boja\"]\n",
        "print(thislist)"
      ]
    },
    {
      "cell_type": "code",
      "execution_count": null,
      "metadata": {
        "colab": {
          "base_uri": "https://localhost:8080/"
        },
        "outputId": "3f3c2154-732e-4133-edff-2998f84a6fce",
        "id": "3MR0Mue0qkO0"
      },
      "outputs": [
        {
          "output_type": "stream",
          "name": "stdout",
          "text": [
            "['Ngaliyan', 'Kendal', 'Boja', 'Batang', 'Klaten']\n"
          ]
        }
      ],
      "source": [
        "#Lists allow duplicate values:\n",
        "\n",
        "thislist = [\"Ngaliyan\", \"Kendal\", \"Boja\", \"Batang\", \"Klaten\"]\n",
        "print(thislist)"
      ]
    },
    {
      "cell_type": "code",
      "source": [
        "print(len(thislist))\n"
      ],
      "metadata": {
        "id": "XmTAN6lPqgHy",
        "colab": {
          "base_uri": "https://localhost:8080/"
        },
        "outputId": "9a6dbcfd-6931-4d72-e023-a04156723a38"
      },
      "execution_count": null,
      "outputs": [
        {
          "output_type": "stream",
          "name": "stdout",
          "text": [
            "5\n"
          ]
        }
      ]
    },
    {
      "cell_type": "code",
      "source": [
        "#String, int and boolean data types:\n",
        "list1 = [\"Ngaliyan\", \"Boja\", \"Batang\"]\n",
        "list2 = [1, 3, 8, 9, 4]\n",
        "list3 = [True, False, False]\n",
        "print(list1)\n",
        "print(list2)\n",
        "print(list3)"
      ],
      "metadata": {
        "colab": {
          "base_uri": "https://localhost:8080/"
        },
        "id": "1yEbECoCrE1Z",
        "outputId": "d8309f36-0eb3-437e-a85d-04f01b3c24a0"
      },
      "execution_count": null,
      "outputs": [
        {
          "output_type": "stream",
          "name": "stdout",
          "text": [
            "['Ngaliyan', 'Boja', 'Batang']\n",
            "[1, 3, 8, 9, 4]\n",
            "[True, False, False]\n"
          ]
        }
      ]
    },
    {
      "cell_type": "code",
      "source": [
        "#A list with strings, integers and boolean values:\n",
        "list1 = [\"dfd\", \"55\", True, 49, \"famale\"]\n",
        "print(list1)"
      ],
      "metadata": {
        "colab": {
          "base_uri": "https://localhost:8080/"
        },
        "id": "ebrrQWQ1rb3o",
        "outputId": "f7098f00-cc88-4262-84a6-fe9d4de16927"
      },
      "execution_count": null,
      "outputs": [
        {
          "output_type": "stream",
          "name": "stdout",
          "text": [
            "['dfd', '55', True, 49, 'famale']\n"
          ]
        }
      ]
    },
    {
      "cell_type": "code",
      "source": [
        "#What is the data type of a list?\n",
        "mylist = [\"Kendal\", \"Boja\", \"Klaten\"]\n",
        "print(type(mylist))"
      ],
      "metadata": {
        "colab": {
          "base_uri": "https://localhost:8080/"
        },
        "id": "gcdTU_vur1Fi",
        "outputId": "0f2a1e1b-2449-4767-a3a6-49580428c6bb"
      },
      "execution_count": null,
      "outputs": [
        {
          "output_type": "stream",
          "name": "stdout",
          "text": [
            "<class 'list'>\n"
          ]
        }
      ]
    },
    {
      "cell_type": "code",
      "source": [
        "#Using the list() constructor to make a List:\n",
        "thislist = list((\"Kendal\", \"Klaten\", \"Boja\"))\n",
        "# note the double round-brackets\n",
        "print(thislist)"
      ],
      "metadata": {
        "colab": {
          "base_uri": "https://localhost:8080/"
        },
        "id": "5Hn2Gw1ys__p",
        "outputId": "e4120940-620b-4bea-874c-a31a1df45215"
      },
      "execution_count": null,
      "outputs": [
        {
          "output_type": "stream",
          "name": "stdout",
          "text": [
            "['Kendal', 'Klaten', 'Boja']\n"
          ]
        }
      ]
    },
    {
      "cell_type": "code",
      "source": [
        "print(thislist[0])"
      ],
      "metadata": {
        "colab": {
          "base_uri": "https://localhost:8080/"
        },
        "id": "34n0L9V0tIVB",
        "outputId": "fafc3f1b-ed17-46cd-c9a6-771c2f285514"
      },
      "execution_count": null,
      "outputs": [
        {
          "output_type": "stream",
          "name": "stdout",
          "text": [
            "Kendal\n"
          ]
        }
      ]
    },
    {
      "cell_type": "code",
      "source": [
        "#Print the second item of the list:\n",
        "\n",
        "print(thislist[1])"
      ],
      "metadata": {
        "colab": {
          "base_uri": "https://localhost:8080/"
        },
        "id": "FXFMCf-MtTjR",
        "outputId": "db518e02-f0a6-4eb5-92f6-196134c46683"
      },
      "execution_count": null,
      "outputs": [
        {
          "output_type": "stream",
          "name": "stdout",
          "text": [
            "Klaten\n"
          ]
        }
      ]
    },
    {
      "cell_type": "code",
      "source": [
        "#Print the last item of the list:\n",
        "\n",
        "print(thislist[-0])"
      ],
      "metadata": {
        "colab": {
          "base_uri": "https://localhost:8080/"
        },
        "id": "2-iSL8r3tdm4",
        "outputId": "63bd0bca-1b50-434b-e07f-9cb870d6a532"
      },
      "execution_count": null,
      "outputs": [
        {
          "output_type": "stream",
          "name": "stdout",
          "text": [
            "Kendal\n"
          ]
        }
      ]
    },
    {
      "cell_type": "code",
      "source": [
        "#Return the third, fourth, and fifth item:\n",
        "thislist = [\"Kendal\", \"Boja\", \"Pati\", \"Batang\", \"Kramat\", \"Kebumen\", \"Weleri\", \"Weleri\"]\n",
        "print(thislist[2:7])"
      ],
      "metadata": {
        "colab": {
          "base_uri": "https://localhost:8080/"
        },
        "id": "6JlVA9lztnlR",
        "outputId": "602cf893-393c-4a6c-d210-ede2380069c4"
      },
      "execution_count": null,
      "outputs": [
        {
          "output_type": "stream",
          "name": "stdout",
          "text": [
            "['Pati', 'Batang', 'Kramat', 'Kebumen', 'Weleri']\n"
          ]
        }
      ]
    },
    {
      "cell_type": "code",
      "source": [
        "#This example returns the items from the beginning to, but NOT including, \"kramat\":\n",
        "print(thislist[:4])"
      ],
      "metadata": {
        "colab": {
          "base_uri": "https://localhost:8080/"
        },
        "id": "BfgWh04_ucLC",
        "outputId": "1f960731-c3d1-4f90-da04-1c16246bd469"
      },
      "execution_count": null,
      "outputs": [
        {
          "output_type": "stream",
          "name": "stdout",
          "text": [
            "['Kendal', 'Boja', 'Pati', 'Batang']\n"
          ]
        }
      ]
    },
    {
      "cell_type": "code",
      "source": [
        "#This example returns the items from \"Batang\" to the end:\n",
        "print(thislist[3:])"
      ],
      "metadata": {
        "colab": {
          "base_uri": "https://localhost:8080/"
        },
        "id": "Lgd-MjMbumhh",
        "outputId": "ba3f4917-494d-4e0e-99de-9764e078d52a"
      },
      "execution_count": null,
      "outputs": [
        {
          "output_type": "stream",
          "name": "stdout",
          "text": [
            "['Batang', 'Kramat', 'Kebumen', 'Weleri', 'Weleri']\n"
          ]
        }
      ]
    },
    {
      "cell_type": "code",
      "source": [
        "#This example returns the items from \"Batang\" (-4) to, but NOT including \"Weleri\" (-1):\n",
        "print(thislist[-4:-1])"
      ],
      "metadata": {
        "colab": {
          "base_uri": "https://localhost:8080/"
        },
        "id": "qx96pnlrwdtz",
        "outputId": "a31e1655-19a4-4df1-d20f-6e6f07b519b5"
      },
      "execution_count": null,
      "outputs": [
        {
          "output_type": "stream",
          "name": "stdout",
          "text": [
            "['Kramat', 'Kebumen', 'Weleri']\n"
          ]
        }
      ]
    },
    {
      "cell_type": "code",
      "source": [
        "print(thislist[2:-2])"
      ],
      "metadata": {
        "colab": {
          "base_uri": "https://localhost:8080/"
        },
        "id": "Lgqh1gDDyZeK",
        "outputId": "86de2034-aaa5-4b4e-d9b2-af1bb96eaa74"
      },
      "execution_count": null,
      "outputs": [
        {
          "output_type": "stream",
          "name": "stdout",
          "text": [
            "['Pati', 'Batang', 'Kramat', 'Kebumen']\n"
          ]
        }
      ]
    },
    {
      "cell_type": "code",
      "source": [
        "#Check if \"Pati\" is present in the list:\n",
        "if \"Pati\" in thislist:\n",
        "  print(\"Yes, 'Pati' is in the citys list\")\n",
        "else :\n",
        "  print(\"No\")"
      ],
      "metadata": {
        "colab": {
          "base_uri": "https://localhost:8080/"
        },
        "outputId": "06aca0da-c5ee-4cc4-f612-35885ba2733c",
        "id": "mymNfWiU0AUr"
      },
      "execution_count": null,
      "outputs": [
        {
          "output_type": "stream",
          "name": "stdout",
          "text": [
            "Yes, 'Pati' is in the citys list\n"
          ]
        }
      ]
    },
    {
      "cell_type": "code",
      "source": [
        "#Check if \"Ngaliyan\" is present in the list:\n",
        "if \"Ngaliyan\" in thislist:\n",
        "  print(\"Yes, 'Ngaliyan' is in the citys list\")\n",
        "else :\n",
        "  print(\"No\")"
      ],
      "metadata": {
        "colab": {
          "base_uri": "https://localhost:8080/"
        },
        "id": "2E5bZxnDzu56",
        "outputId": "964f7de6-27ab-4593-e198-ad6cb9211bd3"
      },
      "execution_count": null,
      "outputs": [
        {
          "output_type": "stream",
          "name": "stdout",
          "text": [
            "No\n"
          ]
        }
      ]
    },
    {
      "cell_type": "code",
      "source": [
        "\n",
        "thislist = [\"Kendal\", \"Boja\", \"Pati\", \"Batang\", \"Kramat\", \"Kebumen\", \"Weleri\", \"Bantul\"]\n",
        "print(thislist)"
      ],
      "metadata": {
        "colab": {
          "base_uri": "https://localhost:8080/"
        },
        "outputId": "92e21a3c-9318-4a22-d32f-27ce0d321d20",
        "id": "z0IA8Uxj0cMV"
      },
      "execution_count": null,
      "outputs": [
        {
          "output_type": "stream",
          "name": "stdout",
          "text": [
            "['Kendal', 'Boja', 'Pati', 'Batang', 'Kramat', 'Kebumen', 'Weleri', 'Bantul']\n"
          ]
        }
      ]
    },
    {
      "cell_type": "code",
      "source": [
        "#Change the second item:\n",
        "thislist[1] = \"Tegal\"\n",
        "print(thislist)"
      ],
      "metadata": {
        "colab": {
          "base_uri": "https://localhost:8080/"
        },
        "outputId": "2fca7b58-0470-401d-cbe9-49b221acbe13",
        "id": "36Sq-E4b0PuH"
      },
      "execution_count": null,
      "outputs": [
        {
          "output_type": "stream",
          "name": "stdout",
          "text": [
            "['Kendal', 'Tegal', 'Pati', 'Batang', 'Kramat', 'Kebumen', 'Weleri', 'Bantul']\n"
          ]
        }
      ]
    },
    {
      "cell_type": "code",
      "source": [
        "#Change the values \"Tegal\" and \"Pati\" with the values \"Tidar\" and \"Slawi\":\n",
        "thislist[1:3] = [\"Tidar\", \"Slawi\"]\n",
        "print(thislist)"
      ],
      "metadata": {
        "colab": {
          "base_uri": "https://localhost:8080/"
        },
        "id": "1vfKheAZ0zOD",
        "outputId": "259f718b-1263-44dd-f58f-93c044a49508"
      },
      "execution_count": null,
      "outputs": [
        {
          "output_type": "stream",
          "name": "stdout",
          "text": [
            "['Kendal', 'Tidar', 'Slawi', 'Slawi', 'Batang', 'Kramat', 'Kebumen', 'Weleri', 'Bantul']\n"
          ]
        }
      ]
    },
    {
      "cell_type": "code",
      "source": [
        "thislist[1:2] = [\"Bayeman\", \"Patebon\"]\n",
        "print(thislist)"
      ],
      "metadata": {
        "colab": {
          "base_uri": "https://localhost:8080/"
        },
        "id": "6WjFT-Sy1hzL",
        "outputId": "e31c01fc-1431-4d3a-ace3-fd91f5303ffd"
      },
      "execution_count": null,
      "outputs": [
        {
          "output_type": "stream",
          "name": "stdout",
          "text": [
            "['Kendal', 'Bayeman', 'Patebon', 'Slawi', 'Slawi', 'Batang', 'Kramat', 'Kebumen', 'Weleri', 'Bantul']\n"
          ]
        }
      ]
    },
    {
      "cell_type": "markdown",
      "source": [
        "EXERCISE 2\n",
        "Buatlah dan tentukan tipe collection untuk mengelola data kalian dengan rincian di bawah :\n",
        "Nama : nama mahasiswa\n",
        "Kelas : kelas mahasiswa\n",
        "Tanggal Lahir : tanggal lahir mahasiswa\n",
        "no hp : no hp mahasiswa\n",
        "alamat : alamat mahasiswa\n",
        "Hobi :\n",
        "    1. Hobi 1\n",
        "    2. Hobi 2\n",
        "    3. dst\n",
        "- Tampilkan seluruh data dengan teknik perulangan"
      ],
      "metadata": {
        "id": "4n_O5KH2G8H_"
      }
    },
    {
      "cell_type": "code",
      "source": [
        "Mahasiswa = {\n",
        "    \"Nama\": \"Zurich Sabil\",\n",
        "    \"Kelas\": \"Rombel 1 TIF\",\n",
        "    \"Tanggal_lahir\": \" 1 Januari 2007\",\n",
        "    \"No_HP\": \"081627847181\",\n",
        "    \"Alamat\": \"Kramat Selatan, Magelang Utara, Kota Magelang\",\n",
        "    \"Hobi\": [\"Bermain game\", \"Mendengarkan Musik\", \"Joging\"]\n",
        "}\n",
        "\n",
        "print(\"Nama:\", Mahasiswa[\"Nama\"])\n",
        "print(\"Kelas:\", Mahasiswa[\"Kelas\"])\n",
        "print(\"Tanggal Lahir:\", Mahasiswa[\"Tanggal_lahir\"])\n",
        "print(\"No HP:\", Mahasiswa[\"No_HP\"])\n",
        "print(\"Alamat:\", Mahasiswa[\"Alamat\"])\n",
        "print(\"Hobi:\")\n",
        "for Hobi in Mahasiswa[\"Hobi\"]:\n",
        "    print(\"~\", Hobi)"
      ],
      "metadata": {
        "colab": {
          "base_uri": "https://localhost:8080/"
        },
        "id": "b_8uoZWCEye7",
        "outputId": "1e85d510-dcec-4b4e-a575-237f3bce4444"
      },
      "execution_count": 5,
      "outputs": [
        {
          "output_type": "stream",
          "name": "stdout",
          "text": [
            "Nama: Zurich Sabil\n",
            "Kelas: Rombel 1 TIF\n",
            "Tanggal Lahir:  1 Januari 2007\n",
            "No HP: 081627847181\n",
            "Alamat: Kramat Selatan, Magelang Utara, Kota Magelang\n",
            "Hobi:\n",
            "~ Bermain game\n",
            "~ Mendengarkan Musik\n",
            "~ Joging\n"
          ]
        }
      ]
    }
  ]
}