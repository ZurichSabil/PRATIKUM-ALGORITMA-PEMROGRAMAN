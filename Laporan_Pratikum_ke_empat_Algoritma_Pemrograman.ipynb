{
  "cells": [
    {
      "cell_type": "markdown",
      "metadata": {
        "id": "view-in-github",
        "colab_type": "text"
      },
      "source": [
        "<a href=\"https://colab.research.google.com/github/ZurichSabil/PRATIKUM-ALGORITMA-PEMROGRAMAN/blob/main/Laporan_Pratikum_ke_empat_Algoritma_Pemrograman.ipynb\" target=\"_parent\"><img src=\"https://colab.research.google.com/assets/colab-badge.svg\" alt=\"Open In Colab\"/></a>"
      ]
    },
    {
      "cell_type": "code",
      "execution_count": null,
      "metadata": {
        "colab": {
          "base_uri": "https://localhost:8080/"
        },
        "id": "nstDbPM9by37",
        "outputId": "23f082af-155f-45c9-d6dd-c0616c51c906"
      },
      "outputs": [
        {
          "data": {
            "text/plain": [
              "False"
            ]
          },
          "execution_count": 9,
          "metadata": {},
          "output_type": "execute_result"
        }
      ],
      "source": [
        "# Condition Equal\n",
        "\n",
        "a = 6\n",
        "a == 8"
      ]
    },
    {
      "cell_type": "code",
      "execution_count": null,
      "metadata": {
        "colab": {
          "base_uri": "https://localhost:8080/"
        },
        "id": "1kOv47s7bwar",
        "outputId": "26b17da3-d835-4d19-faff-8f254bf5357c"
      },
      "outputs": [
        {
          "data": {
            "text/plain": [
              "True"
            ]
          },
          "execution_count": 11,
          "metadata": {},
          "output_type": "execute_result"
        }
      ],
      "source": [
        "# Greater than Sign\n",
        "\n",
        "i = 8\n",
        "i > 6"
      ]
    },
    {
      "cell_type": "code",
      "execution_count": null,
      "metadata": {
        "colab": {
          "base_uri": "https://localhost:8080/"
        },
        "id": "SiAPPgNlcY9c",
        "outputId": "d84f1554-9436-4677-af49-30c175ab875f"
      },
      "outputs": [
        {
          "data": {
            "text/plain": [
              "False"
            ]
          },
          "execution_count": 12,
          "metadata": {},
          "output_type": "execute_result"
        }
      ],
      "source": [
        "# Greater than Sign\n",
        "\n",
        "i = 1\n",
        "i > 2"
      ]
    },
    {
      "cell_type": "code",
      "execution_count": null,
      "metadata": {
        "colab": {
          "base_uri": "https://localhost:8080/"
        },
        "id": "9YSohzjoMgNy",
        "outputId": "da10aa49-231e-42d8-e3e8-f8849449565f"
      },
      "outputs": [
        {
          "data": {
            "text/plain": [
              "True"
            ]
          },
          "execution_count": 34,
          "metadata": {},
          "output_type": "execute_result"
        }
      ],
      "source": [
        "# Inequality Sign\n",
        "\n",
        "i = 5\n",
        "i != 9"
      ]
    },
    {
      "cell_type": "code",
      "execution_count": null,
      "metadata": {
        "colab": {
          "base_uri": "https://localhost:8080/"
        },
        "id": "V2QdgXifMnuc",
        "outputId": "0243ab3b-f844-4435-8060-a537b498934b"
      },
      "outputs": [
        {
          "data": {
            "text/plain": [
              "False"
            ]
          },
          "execution_count": 35,
          "metadata": {},
          "output_type": "execute_result"
        }
      ],
      "source": [
        "# Inequality Sign\n",
        "\n",
        "i = 9\n",
        "i != 9"
      ]
    },
    {
      "cell_type": "code",
      "execution_count": null,
      "metadata": {
        "colab": {
          "base_uri": "https://localhost:8080/"
        },
        "id": "AeJM1WJCg6lf",
        "outputId": "dbacc26b-1fe6-4119-ff4c-656b78ddc4d6"
      },
      "outputs": [
        {
          "data": {
            "text/plain": [
              "False"
            ]
          },
          "execution_count": 38,
          "metadata": {},
          "output_type": "execute_result"
        }
      ],
      "source": [
        "# Use Equality sign to compare the strings\n",
        "\n",
        "\"ACDC\" == \"Xaviera Putri\""
      ]
    },
    {
      "cell_type": "code",
      "execution_count": null,
      "metadata": {
        "colab": {
          "base_uri": "https://localhost:8080/"
        },
        "id": "lJ1izi-rm2Qa",
        "outputId": "6a3139e7-7f43-4a4c-cad3-05e065e590d8"
      },
      "outputs": [
        {
          "data": {
            "text/plain": [
              "True"
            ]
          },
          "execution_count": 37,
          "metadata": {},
          "output_type": "execute_result"
        }
      ],
      "source": [
        "# Use Inequality sign to compare the strings\n",
        "\n",
        "\"ACDC\" != \"Xaviera Putri\""
      ]
    },
    {
      "cell_type": "code",
      "execution_count": null,
      "metadata": {
        "colab": {
          "base_uri": "https://localhost:8080/"
        },
        "id": "t3dqe7Tjm9ou",
        "outputId": "b2735c30-aa61-4a02-d595-a0c74ad150fa"
      },
      "outputs": [
        {
          "data": {
            "text/plain": [
              "True"
            ]
          },
          "execution_count": 18,
          "metadata": {},
          "output_type": "execute_result"
        }
      ],
      "source": [
        "# Compare characters\n",
        "\n",
        "'B' > 'A'"
      ]
    },
    {
      "cell_type": "code",
      "execution_count": null,
      "metadata": {
        "colab": {
          "base_uri": "https://localhost:8080/"
        },
        "id": "lzKCGSnjnGE4",
        "outputId": "e3afcdc8-71ec-4c2f-c91d-67d0ad57a732"
      },
      "outputs": [
        {
          "data": {
            "text/plain": [
              "True"
            ]
          },
          "execution_count": 19,
          "metadata": {},
          "output_type": "execute_result"
        }
      ],
      "source": [
        "# Compare characters\n",
        "\n",
        "'BA' > 'AB'"
      ]
    },
    {
      "cell_type": "code",
      "execution_count": null,
      "metadata": {
        "colab": {
          "base_uri": "https://localhost:8080/"
        },
        "id": "rJECXUz_nKlM",
        "outputId": "5c8c783d-9ad9-4994-e57f-14c6a0ac7d3c"
      },
      "outputs": [
        {
          "data": {
            "text/plain": [
              "True"
            ]
          },
          "execution_count": 21,
          "metadata": {},
          "output_type": "execute_result"
        }
      ],
      "source": [
        "\"ba\" >= 'ba'\n"
      ]
    },
    {
      "cell_type": "code",
      "execution_count": null,
      "metadata": {
        "colab": {
          "base_uri": "https://localhost:8080/"
        },
        "id": "Lsg-EhtiniKX",
        "outputId": "7d67cd8f-4191-4ee1-971e-1c975bb49f1a"
      },
      "outputs": [
        {
          "name": "stdout",
          "output_type": "stream",
          "text": [
            "move on\n"
          ]
        }
      ],
      "source": [
        "# If statement example\n",
        "\n",
        "#age = 22\n",
        "age = 17\n",
        "\n",
        "#expression that can be true or false\n",
        "if age > 17:\n",
        "\n",
        "    #within an indent, we have the expression that is run if the condition is true\n",
        "    print(\"you can enter\" )\n",
        "\n",
        "#The statements after the if statement will run regardless if the condition is true or false\n",
        "print(\"move on\")"
      ]
    },
    {
      "cell_type": "code",
      "execution_count": null,
      "metadata": {
        "colab": {
          "base_uri": "https://localhost:8080/"
        },
        "id": "zyRCr3j8n2uT",
        "outputId": "cfbc88d8-8075-4034-af9f-b03df89ad8ba"
      },
      "outputs": [
        {
          "name": "stdout",
          "output_type": "stream",
          "text": [
            "Pergi ke tanah abang\n",
            "Lupakan\n"
          ]
        }
      ],
      "source": [
        "# Else statement example\n",
        "\n",
        "#age = 20\n",
        "age = 28\n",
        "\n",
        "if age > 22 :\n",
        "    print(\"Pergi ke tanah abang\" )\n",
        "else:\n",
        "    print(\"Pergi ke jatinangor\" )\n",
        "    #print(\"move on\")\n",
        "\n",
        "print(\"Lupakan\")"
      ]
    },
    {
      "cell_type": "code",
      "execution_count": null,
      "metadata": {
        "colab": {
          "base_uri": "https://localhost:8080/"
        },
        "id": "-lYaGS1EoJM0",
        "outputId": "d1700b0a-5f7f-4516-b600-237cec959075"
      },
      "outputs": [
        {
          "name": "stdout",
          "output_type": "stream",
          "text": [
            "Pergi ke Jatinangor\n",
            "Lupakan\n"
          ]
        }
      ],
      "source": [
        "# Elif statment example\n",
        "\n",
        "age = 11\n",
        "\n",
        "if age > 11:\n",
        "    print( \"Pergi ke Tanah Abang\" )\n",
        "elif age == 11:\n",
        "    print(\"Pergi ke Jatinangor\")\n",
        "else:\n",
        "    print(\"Pergi ke mana aja\" )\n",
        "\n",
        "print(\"Lupakan\")"
      ]
    },
    {
      "cell_type": "code",
      "execution_count": null,
      "metadata": {
        "colab": {
          "base_uri": "https://localhost:8080/"
        },
        "id": "VemJfzaQokbS",
        "outputId": "43f13d1a-670f-4b81-d44a-1120f7401e22"
      },
      "outputs": [
        {
          "name": "stdout",
          "output_type": "stream",
          "text": [
            "Prestasi siswa tahun sebelumnya\n",
            "Selamat ya siswa\n"
          ]
        }
      ],
      "source": [
        "# Condition statement example\n",
        "\n",
        "prestasi_siswa = 333\n",
        "#prestasi_siswa = 307\n",
        "\n",
        "if prestasi_siswa > 311:\n",
        "    print(\"Prestasi siswa tahun sebelumnya\")\n",
        "\n",
        "print('Selamat ya siswa')"
      ]
    },
    {
      "cell_type": "code",
      "execution_count": null,
      "metadata": {
        "colab": {
          "base_uri": "https://localhost:8080/"
        },
        "id": "ZXQxWRs_qR6e",
        "outputId": "4b3e3d1b-20d0-4c42-849f-854456025de7"
      },
      "outputs": [
        {
          "name": "stdout",
          "output_type": "stream",
          "text": [
            "Menorehkan prestasi\n",
            "Selamat..\n"
          ]
        }
      ],
      "source": [
        "# Condition statement example\n",
        "\n",
        "#prestasi_siswa = 333\n",
        "prestasi_siswa = 307\n",
        "\n",
        "if prestasi_siswa > 311:\n",
        "    print(\"Prestasi siswa tahun sebelumnya\")\n",
        "else:\n",
        "    print(\"Menorehkan prestasi\")\n",
        "\n",
        "print('Selamat..')"
      ]
    },
    {
      "cell_type": "code",
      "execution_count": null,
      "metadata": {
        "colab": {
          "base_uri": "https://localhost:8080/"
        },
        "id": "gdKmIF3VEyy0",
        "outputId": "90374f5e-b610-4638-e797-20aedf3d79c3"
      },
      "outputs": [
        {
          "name": "stdout",
          "output_type": "stream",
          "text": [
            "tahun kelahiran antara 1983 dan 1988\n",
            "\n",
            "Lakukan inovasi..\n"
          ]
        }
      ],
      "source": [
        "# Condition statement example\n",
        "\n",
        "tahun_kelahiran = 1983\n",
        "\n",
        "if(tahun_kelahiran > 1979) and (tahun_kelahiran < 1990):\n",
        "    print (\"tahun kelahiran antara 1983 dan 1988\")\n",
        "\n",
        "print(\"\")\n",
        "print(\"Lakukan inovasi..\")"
      ]
    },
    {
      "cell_type": "code",
      "execution_count": null,
      "metadata": {
        "colab": {
          "base_uri": "https://localhost:8080/"
        },
        "id": "lFdxUqhvIHOg",
        "outputId": "88a61ce9-1a64-4c58-8af3-53fbe846b0a6"
      },
      "outputs": [
        {
          "name": "stdout",
          "output_type": "stream",
          "text": [
            "Tidak ada kelahiran tahun 1991\n"
          ]
        }
      ],
      "source": [
        "# Condition statement example\n",
        "\n",
        "tahun_kelahiran = 1966\n",
        "\n",
        "if(tahun_kelahiran < 1991) or (tahun_kelahiran > 2002):\n",
        "    print (\"Tidak ada kelahiran tahun 1991\")\n",
        "else:\n",
        "    print(\"Terdapat kelahiran tahun 1991 \")"
      ]
    },
    {
      "cell_type": "code",
      "execution_count": null,
      "metadata": {
        "colab": {
          "base_uri": "https://localhost:8080/"
        },
        "id": "2xmmJF_PGOXr",
        "outputId": "26484217-3b1e-4db2-8774-24a8d317efa8"
      },
      "outputs": [
        {
          "name": "stdout",
          "output_type": "stream",
          "text": [
            "Tidak ada tahun kelahiran 1966\n"
          ]
        }
      ],
      "source": [
        "# Condition statement example\n",
        "\n",
        "tahun_keahiran = 1966\n",
        "\n",
        "if not (tahun_kelahiran == '1966'):\n",
        "    print (\"Tidak ada tahun kelahiran 1966\")"
      ]
    },
    {
      "cell_type": "code",
      "execution_count": null,
      "metadata": {
        "colab": {
          "base_uri": "https://localhost:8080/"
        },
        "id": "-b60fWd_KBHM",
        "outputId": "9f7cbd94-4bd2-4fed-fad1-be09b3938b88"
      },
      "outputs": [
        {
          "name": "stdout",
          "output_type": "stream",
          "text": [
            "This album is Amazing!\n"
          ]
        }
      ],
      "source": [
        "rating_back_in_black = 9.2\n",
        "\n",
        "if rating_back_in_black > 8:\n",
        "  print(\"This album is Amazing!\")"
      ]
    },
    {
      "cell_type": "code",
      "execution_count": null,
      "metadata": {
        "colab": {
          "base_uri": "https://localhost:8080/"
        },
        "id": "28BlMQcLKP7R",
        "outputId": "b0740b44-70b0-4c82-b098-50cbf4f2c3e9"
      },
      "outputs": [
        {
          "name": "stdout",
          "output_type": "stream",
          "text": [
            "This album is Amazing!\n"
          ]
        }
      ],
      "source": [
        "rating_back_in_black = 9.2\n",
        "\n",
        "if rating_back_in_black > 8:\n",
        "  print(\"This album is Amazing!\")\n",
        "else:\n",
        "  print(\"This album is ok\")"
      ]
    },
    {
      "cell_type": "code",
      "execution_count": null,
      "metadata": {
        "colab": {
          "base_uri": "https://localhost:8080/"
        },
        "id": "tp4LFsOzKu_o",
        "outputId": "94d718c1-53a8-4f6e-95dc-cf9fbfae7d64"
      },
      "outputs": [
        {
          "name": "stdout",
          "output_type": "stream",
          "text": [
            "This album is ok\n"
          ]
        }
      ],
      "source": [
        "rating_back_in_black = 6.7\n",
        "\n",
        "if rating_back_in_black > 8:\n",
        "  print(\"This album is Amazing!\")\n",
        "else:\n",
        "  print(\"This album is ok\")"
      ]
    },
    {
      "cell_type": "code",
      "execution_count": null,
      "metadata": {
        "colab": {
          "base_uri": "https://localhost:8080/"
        },
        "id": "jwa0wRi_LIpa",
        "outputId": "45ecf568-640e-410e-f118-f294410bc75f"
      },
      "outputs": [
        {
          "name": "stdout",
          "output_type": "stream",
          "text": [
            "The album came out in 1966\n"
          ]
        }
      ],
      "source": [
        "album_year = 1966\n",
        "\n",
        "if album_year < 1980 or album_year == 1991 or album_year == 1993:\n",
        "  print(\"The album came out in\", album_year)"
      ]
    },
    {
      "cell_type": "code",
      "execution_count": null,
      "metadata": {
        "colab": {
          "base_uri": "https://localhost:8080/"
        },
        "id": "6dZxfci-VJFc",
        "outputId": "0683dce0-4b74-4c2a-d7ab-308d37ee85b7"
      },
      "outputs": [
        {
          "name": "stdout",
          "output_type": "stream",
          "text": [
            "Masukkan umur Anda: 22\n",
            "Anda boleh membuat SIM.\n"
          ]
        }
      ],
      "source": [
        "umur = int(input(\"Masukkan umur Anda: \"))\n",
        "\n",
        "if umur >= 17:\n",
        "    print(\"Anda boleh membuat SIM.\")\n",
        "else:\n",
        "    print(\"Anda belum boleh membuat SIM.\")"
      ]
    },
    {
      "cell_type": "code",
      "execution_count": 46,
      "metadata": {
        "colab": {
          "base_uri": "https://localhost:8080/"
        },
        "id": "VRBLbhXXfiMR",
        "outputId": "b73c7ce8-839e-40e0-febb-3ecbdad10320"
      },
      "outputs": [
        {
          "output_type": "stream",
          "name": "stdout",
          "text": [
            "Masukkan nilai Anda: 68\n",
            "Masukkan nilai Anda: D\n"
          ]
        }
      ],
      "source": [
        "nilai = int(input(\"Masukkan nilai Anda: \"))\n",
        "\n",
        "if nilai >= 90:\n",
        "    grade = \"A\"\n",
        "elif nilai >= 80:\n",
        "    grade = \"B\"\n",
        "elif nilai >= 70:\n",
        "    grade = \"C\"\n",
        "elif nilai >= 60:\n",
        "    grade = \"D\"\n",
        "else:\n",
        "    grade = \"E\"\n",
        "\n",
        "print (\"Masukkan nilai Anda:\", grade)"
      ]
    },
    {
      "cell_type": "code",
      "source": [
        "nilai= input('nilai anda: ')\n",
        "nilai= float(nilai)\n",
        "\n",
        "if nilai >= 80.00:\n",
        " print('A')\n",
        "elif nilai >= 77.50:\n",
        " print('A-')\n",
        "elif nilai >= 75.00:\n",
        " print('AB')\n",
        "elif nilai >= 72.50:\n",
        " print('B+')\n",
        "elif nilai >= 70.00:\n",
        " print('B')\n",
        "elif nilai >= 67.50:\n",
        " print('B-')\n",
        "elif nilai >= 65.00:\n",
        " print('BC')\n",
        "elif nilai >= 62.50:\n",
        " print('C+')\n",
        "elif nilai >= 60.00:\n",
        " print('C')\n",
        "elif nilai >= 55.00:\n",
        " print('C-')\n",
        "elif nilai >= 50.00:\n",
        " print('CD')\n",
        "elif nilai >= 45.00:\n",
        " print('D+')\n",
        "elif nilai >= 40.00:\n",
        " print('D')\n",
        "else:\n",
        " print('E')"
      ],
      "metadata": {
        "colab": {
          "base_uri": "https://localhost:8080/"
        },
        "id": "70IRzfOZpAEU",
        "outputId": "32f233d9-8810-422f-9f66-1da6beecd52a"
      },
      "execution_count": 69,
      "outputs": [
        {
          "output_type": "stream",
          "name": "stdout",
          "text": [
            "nilai anda: 77\n",
            "AB\n"
          ]
        }
      ]
    }
  ],
  "metadata": {
    "colab": {
      "provenance": [],
      "authorship_tag": "ABX9TyPIbbgrI9kG0EnUmSwH95VN",
      "include_colab_link": true
    },
    "kernelspec": {
      "display_name": "Python 3",
      "name": "python3"
    },
    "language_info": {
      "name": "python"
    }
  },
  "nbformat": 4,
  "nbformat_minor": 0
}