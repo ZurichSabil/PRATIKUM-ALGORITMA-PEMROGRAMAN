{
  "nbformat": 4,
  "nbformat_minor": 0,
  "metadata": {
    "colab": {
      "provenance": [],
      "authorship_tag": "ABX9TyMF9brATnQu7T5vUZeUtQJn",
      "include_colab_link": true
    },
    "kernelspec": {
      "name": "python3",
      "display_name": "Python 3"
    },
    "language_info": {
      "name": "python"
    }
  },
  "cells": [
    {
      "cell_type": "markdown",
      "metadata": {
        "id": "view-in-github",
        "colab_type": "text"
      },
      "source": [
        "<a href=\"https://colab.research.google.com/github/ZurichSabil/PRATIKUM-ALGORITMA-PEMROGRAMAN/blob/main/2430506057_Tugas_Strukdat_Array.ipynb\" target=\"_parent\"><img src=\"https://colab.research.google.com/assets/colab-badge.svg\" alt=\"Open In Colab\"/></a>"
      ]
    },
    {
      "cell_type": "code",
      "source": [
        "import random\n",
        "\n",
        "size = int(input(\"Masukkan ukuran peta: \"))\n",
        "\n",
        "treasure_map = [\"_\" for _ in range (size)]\n",
        "\n",
        "treasure_index = random.randint(0, size-1)\n",
        "treasure_map[treasure_index] = \"X\"\n",
        "\n",
        "def play_treasure_hunt():\n",
        "    print(\"\\nHarta karun telah disembunyikan! Sekarang giliran pemain menebak.\")\n",
        "    print(\"Cobalah untuk menemukan harta karun dengan menebak indeks yang benar.\")\n",
        "\n",
        "    while True:\n",
        "\n",
        "        print(\"\\nPeta saat ini: \", [\"_\" for _ in range(size)])\n",
        "\n",
        "        try:\n",
        "            guess = int(input (f\"Masukkan indeks tebakanmu (0-{size-1}): \"))\n",
        "        except ValueError:\n",
        "            print(\"Masukkan angka yang valid!\")\n",
        "            continue\n",
        "\n",
        "        if guess < 0 or guess >= size:\n",
        "            print(\"Indeks tidak valid, pilih antara 0 hingga\", size-1)\n",
        "            continue\n",
        "\n",
        "        if treasure_map[guess] == \"X\":\n",
        "            print(\"Selamat! Kamu menemukan harta karun di lokasi:\", guess)\n",
        "            break\n",
        "        else:\n",
        "            print(\"X Tidak ada harta di lokasi ini. Coba lagi!\")\n",
        "    print(\"Terima kasih sudah bermain!\")\n",
        "\n",
        "play_treasure_hunt()"
      ],
      "metadata": {
        "colab": {
          "base_uri": "https://localhost:8080/"
        },
        "id": "zjM_rCrekT__",
        "outputId": "7a68835e-3366-484c-a137-70a68ba4164e"
      },
      "execution_count": 4,
      "outputs": [
        {
          "output_type": "stream",
          "name": "stdout",
          "text": [
            "Masukkan ukuran peta: 3\n",
            "\n",
            "Harta karun telah disembunyikan! Sekarang giliran pemain menebak.\n",
            "Cobalah untuk menemukan harta karun dengan menebak indeks yang benar.\n",
            "\n",
            "Peta saat ini:  ['_', '_', '_']\n",
            "Masukkan indeks tebakanmu (0-2): 1\n",
            "X Tidak ada harta di lokasi ini. Coba lagi!\n",
            "\n",
            "Peta saat ini:  ['_', '_', '_']\n",
            "Masukkan indeks tebakanmu (0-2): 2\n",
            "Selamat! Kamu menemukan harta karun di lokasi: 2\n",
            "Terima kasih sudah bermain!\n"
          ]
        }
      ]
    }
  ]
}