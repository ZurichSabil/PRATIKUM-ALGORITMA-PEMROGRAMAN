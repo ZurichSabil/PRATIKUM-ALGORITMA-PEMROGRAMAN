{
  "nbformat": 4,
  "nbformat_minor": 0,
  "metadata": {
    "colab": {
      "provenance": [],
      "authorship_tag": "ABX9TyN9r76Bdgi38RxBKbG/RgzZ",
      "include_colab_link": true
    },
    "kernelspec": {
      "name": "python3",
      "display_name": "Python 3"
    },
    "language_info": {
      "name": "python"
    }
  },
  "cells": [
    {
      "cell_type": "markdown",
      "metadata": {
        "id": "view-in-github",
        "colab_type": "text"
      },
      "source": [
        "<a href=\"https://colab.research.google.com/github/ZurichSabil/PRATIKUM-ALGORITMA-PEMROGRAMAN/blob/main/LAPORAN_PRATIKUM_KE_LIMA_ALGORITMA_PEMROGRAMAN.ipynb\" target=\"_parent\"><img src=\"https://colab.research.google.com/assets/colab-badge.svg\" alt=\"Open In Colab\"/></a>"
      ]
    },
    {
      "cell_type": "code",
      "execution_count": null,
      "metadata": {
        "colab": {
          "base_uri": "https://localhost:8080/"
        },
        "id": "tfdEXsVFcYHE",
        "outputId": "d1969d28-723d-4ac5-eb40-01ebec9c05bd"
      },
      "outputs": [
        {
          "output_type": "stream",
          "name": "stdout",
          "text": [
            "The number is negative.\n"
          ]
        }
      ],
      "source": [
        "num =  -10\n",
        "\n",
        "if num > 0:\n",
        "    print(\"The number is positive.\")\n",
        "else:\n",
        "    if num < 0:\n",
        "        print(\"The number is negative.\")\n",
        "    else:\n",
        "        print(\"The number is zero.\")"
      ]
    },
    {
      "cell_type": "code",
      "source": [
        "# Pengelompokan usia\n",
        "age = 16\n",
        "\n",
        "if age >= 22:\n",
        "    print(\"manusia dewasa.\")\n",
        "else:\n",
        "    if age >= 17:\n",
        "        print(\" manusia remaja.\")\n",
        "    else:\n",
        "        print(\"anak dibawah umur.\")"
      ],
      "metadata": {
        "colab": {
          "base_uri": "https://localhost:8080/"
        },
        "id": "CBzVN-2IdDkQ",
        "outputId": "27187065-1010-4de1-d629-be617934b9f0"
      },
      "execution_count": null,
      "outputs": [
        {
          "output_type": "stream",
          "name": "stdout",
          "text": [
            "anak dibawah umur.\n"
          ]
        }
      ]
    },
    {
      "cell_type": "code",
      "source": [
        "def is_kabisat(tahun):\n",
        "  \"Fungsi untuk memeriksa apakah suatu tahun adalah tahun kabisat.\"\n",
        "  return tahun % 4 == 0 and (tahun % 100 != 0 or tahun % 400 == 0)\n",
        "\n",
        "# Meminta input tahun dari pengguna\n",
        "tahun = int(input(\"Masukkan tahun: \"))\n",
        "\n",
        "# Memanggil fungsi dan mencetak hasilnya\n",
        "if is_kabisat(tahun):\n",
        "  print(tahun, \"adalah tahun kabisat.\")\n",
        "\n",
        "else:\n",
        "  print(tahun, \"bukan tahun kabisat.\")"
      ],
      "metadata": {
        "colab": {
          "base_uri": "https://localhost:8080/"
        },
        "id": "XPk5S_CQj7Uk",
        "outputId": "e5041782-f83d-40b9-a5ca-16c0a7d98b1d"
      },
      "execution_count": null,
      "outputs": [
        {
          "output_type": "stream",
          "name": "stdout",
          "text": [
            "Masukkan tahun: 1996\n",
            "1996 adalah tahun kabisat.\n"
          ]
        }
      ]
    },
    {
      "cell_type": "code",
      "source": [
        "angka1 = int(input(\"Masukkan angka pertama: \"))\n",
        "angka2 = int(input(\"Masukkan angka kedua: \"))\n",
        "angka3 = int(input(\"Masukkan angka ketiga: \"))\n",
        "\n",
        "terbesar = max(angka1, angka2, angka3)\n",
        "\n",
        "print(\"Angka terbesar adalah:\", terbesar)"
      ],
      "metadata": {
        "colab": {
          "base_uri": "https://localhost:8080/"
        },
        "id": "C6TXsJGjon31",
        "outputId": "e9108058-858a-4f46-cc15-0fa9ecf644a9"
      },
      "execution_count": null,
      "outputs": [
        {
          "output_type": "stream",
          "name": "stdout",
          "text": [
            "Masukkan angka pertama: 22\n",
            "Masukkan angka kedua: 11\n",
            "Masukkan angka ketiga: 67\n",
            "Angka terbesar adalah: 67\n"
          ]
        }
      ]
    },
    {
      "cell_type": "code",
      "source": [
        "def hitung_diskon(total_belanja, termasuk_member):\n",
        "\n",
        "  if total_belanja > 200000:\n",
        "    diskon = 4\n",
        "  elif total_belanja > 100000:\n",
        "    diskon = 3\n",
        "  if termasuk_member:\n",
        "    diskon += 2\n",
        "  return diskon\n",
        "\n",
        "total_belanja = int(input(\"Total belanja: \"))\n",
        "termasuk_member = input(\"Apakah Anda Termasuk member? (ya/tidak): \").lower() == \"ya\"\n",
        "diskon = hitung_diskon(total_belanja, termasuk_member)\n",
        "total_bayar = total_belanja - (total_belanja * diskon / 100)\n",
        "print(\"Total bayar: Rp\", total_bayar)"
      ],
      "metadata": {
        "colab": {
          "base_uri": "https://localhost:8080/"
        },
        "id": "G0rCEPz9j1-3",
        "outputId": "82484330-7a10-43e5-d487-cb7ce1bbf5f0"
      },
      "execution_count": null,
      "outputs": [
        {
          "name": "stdout",
          "output_type": "stream",
          "text": [
            "Total belanja: 224000\n"
          ]
        }
      ]
    },
    {
      "cell_type": "code",
      "source": [
        "def Pembuatan_User_Baru():\n",
        "  username = input(\"Username: \")\n",
        "  email = input(\"Email: \")\n",
        "  password = input(\"Kata sandi (minimal 8 karakter): \")\n",
        "\n",
        "  if not username or \"@\" not in email or len(password) < 8:\n",
        "    print(\"Data yang Anda masukkan tidak valid.\")\n",
        "  else:\n",
        "    print(\"Selamat! Akun Anda berhasil dibuat.\")\n",
        "\n",
        "Pembuatan_User_Baru()"
      ],
      "metadata": {
        "colab": {
          "base_uri": "https://localhost:8080/"
        },
        "id": "4S1hyXOrKRuD",
        "outputId": "21524afe-8950-4165-c5ec-fd0bc4f0fd8f"
      },
      "execution_count": null,
      "outputs": [
        {
          "output_type": "stream",
          "name": "stdout",
          "text": [
            "Username: zurichsabil\n",
            "Email: abiluv@gmail.com\n",
            "Kata sandi (minimal 8 karakter): ALGORITMAKELIMA\n",
            "Selamat! Akun Anda berhasil dibuat.\n"
          ]
        }
      ]
    }
  ]
}