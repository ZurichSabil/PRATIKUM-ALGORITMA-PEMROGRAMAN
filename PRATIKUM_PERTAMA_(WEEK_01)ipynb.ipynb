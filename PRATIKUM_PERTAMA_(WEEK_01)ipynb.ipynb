{
  "nbformat": 4,
  "nbformat_minor": 0,
  "metadata": {
    "colab": {
      "provenance": [],
      "authorship_tag": "ABX9TyPvyiecxNegDkedCi/7OyRc",
      "include_colab_link": true
    },
    "kernelspec": {
      "name": "python3",
      "display_name": "Python 3"
    },
    "language_info": {
      "name": "python"
    }
  },
  "cells": [
    {
      "cell_type": "markdown",
      "metadata": {
        "id": "view-in-github",
        "colab_type": "text"
      },
      "source": [
        "<a href=\"https://colab.research.google.com/github/ZurichSabil/PRATIKUM-PROJECT-1/blob/main/PRATIKUM_PERTAMA_(WEEK_01)ipynb.ipynb\" target=\"_parent\"><img src=\"https://colab.research.google.com/assets/colab-badge.svg\" alt=\"Open In Colab\"/></a>"
      ]
    },
    {
      "cell_type": "code",
      "source": [
        "# Try to see build in error message\n",
        "\n",
        "print(\"Hello Felicia)"
      ],
      "metadata": {
        "colab": {
          "base_uri": "https://localhost:8080/",
          "height": 106
        },
        "id": "T1wVAJWfxrNP",
        "outputId": "11651a30-6b26-4cf6-c933-b8ef7029fec8"
      },
      "execution_count": null,
      "outputs": [
        {
          "output_type": "error",
          "ename": "SyntaxError",
          "evalue": "unterminated string literal (detected at line 3) (<ipython-input-6-404c3a88b54f>, line 3)",
          "traceback": [
            "\u001b[0;36m  File \u001b[0;32m\"<ipython-input-6-404c3a88b54f>\"\u001b[0;36m, line \u001b[0;32m3\u001b[0m\n\u001b[0;31m    print(\"Hello Felicia)\u001b[0m\n\u001b[0m          ^\u001b[0m\n\u001b[0;31mSyntaxError\u001b[0m\u001b[0;31m:\u001b[0m unterminated string literal (detected at line 3)\n"
          ]
        }
      ]
    },
    {
      "cell_type": "code",
      "source": [
        "# Print string and error to see the running order\n",
        "\n",
        "print(\"Hai pertama kali\")\n",
        "frint(\"Hai semua semua error\")\n",
        "print(\"Hai semuanya\")"
      ],
      "metadata": {
        "colab": {
          "base_uri": "https://localhost:8080/",
          "height": 211
        },
        "id": "exWS3sVs7jsP",
        "outputId": "6ac315a8-3692-4570-82e9-4911f057afaa"
      },
      "execution_count": null,
      "outputs": [
        {
          "output_type": "stream",
          "name": "stdout",
          "text": [
            "Hai pertama kali\n"
          ]
        },
        {
          "output_type": "error",
          "ename": "NameError",
          "evalue": "name 'frint' is not defined",
          "traceback": [
            "\u001b[0;31m---------------------------------------------------------------------------\u001b[0m",
            "\u001b[0;31mNameError\u001b[0m                                 Traceback (most recent call last)",
            "\u001b[0;32m<ipython-input-1-1e476a3c8265>\u001b[0m in \u001b[0;36m<cell line: 4>\u001b[0;34m()\u001b[0m\n\u001b[1;32m      2\u001b[0m \u001b[0;34m\u001b[0m\u001b[0m\n\u001b[1;32m      3\u001b[0m \u001b[0mprint\u001b[0m\u001b[0;34m(\u001b[0m\u001b[0;34m\"Hai pertama kali\"\u001b[0m\u001b[0;34m)\u001b[0m\u001b[0;34m\u001b[0m\u001b[0;34m\u001b[0m\u001b[0m\n\u001b[0;32m----> 4\u001b[0;31m \u001b[0mfrint\u001b[0m\u001b[0;34m(\u001b[0m\u001b[0;34m\"Hai semua semua error\"\u001b[0m\u001b[0;34m)\u001b[0m\u001b[0;34m\u001b[0m\u001b[0;34m\u001b[0m\u001b[0m\n\u001b[0m\u001b[1;32m      5\u001b[0m \u001b[0mprint\u001b[0m\u001b[0;34m(\u001b[0m\u001b[0;34m\"Hai semuanya\"\u001b[0m\u001b[0;34m)\u001b[0m\u001b[0;34m\u001b[0m\u001b[0;34m\u001b[0m\u001b[0m\n",
            "\u001b[0;31mNameError\u001b[0m: name 'frint' is not defined"
          ]
        }
      ]
    },
    {
      "cell_type": "code",
      "source": [
        "# Check the python version\n",
        "import sys\n",
        "print(sys.version)"
      ],
      "metadata": {
        "colab": {
          "base_uri": "https://localhost:8080/"
        },
        "id": "3iZHMxvIplAe",
        "outputId": "06b58d98-f730-4fbf-d792-3cc40ffe9f9d"
      },
      "execution_count": null,
      "outputs": [
        {
          "output_type": "stream",
          "name": "stdout",
          "text": [
            "3.10.12 (main, Jul 29 2024, 16:56:48) [GCC 11.4.0]\n"
          ]
        }
      ]
    },
    {
      "cell_type": "code",
      "source": [
        "# Practice on writing comments\n",
        "\n",
        "print('Hello Felicia') # This line prints a string\n",
        "print('Fel') # untuk print Fel"
      ],
      "metadata": {
        "colab": {
          "base_uri": "https://localhost:8080/"
        },
        "id": "9MDXyiNmr3KD",
        "outputId": "8e921516-902e-4218-f467-514c27a7951c"
      },
      "execution_count": null,
      "outputs": [
        {
          "output_type": "stream",
          "name": "stdout",
          "text": [
            "Hello Felicia\n",
            "Fel\n"
          ]
        }
      ]
    },
    {
      "cell_type": "code",
      "source": [
        "# Print string as error message\n",
        "\n",
        "frint('Hello Felicia')"
      ],
      "metadata": {
        "colab": {
          "base_uri": "https://localhost:8080/",
          "height": 176
        },
        "id": "GXFYIfAgu5YF",
        "outputId": "a5ee0025-b5e6-4d3b-a69d-cf5a50384869"
      },
      "execution_count": null,
      "outputs": [
        {
          "output_type": "error",
          "ename": "NameError",
          "evalue": "name 'frint' is not defined",
          "traceback": [
            "\u001b[0;31m---------------------------------------------------------------------------\u001b[0m",
            "\u001b[0;31mNameError\u001b[0m                                 Traceback (most recent call last)",
            "\u001b[0;32m<ipython-input-5-9845f8d0465e>\u001b[0m in \u001b[0;36m<cell line: 3>\u001b[0;34m()\u001b[0m\n\u001b[1;32m      1\u001b[0m \u001b[0;31m# Print string as error message\u001b[0m\u001b[0;34m\u001b[0m\u001b[0;34m\u001b[0m\u001b[0m\n\u001b[1;32m      2\u001b[0m \u001b[0;34m\u001b[0m\u001b[0m\n\u001b[0;32m----> 3\u001b[0;31m \u001b[0mfrint\u001b[0m\u001b[0;34m(\u001b[0m\u001b[0;34m'Hello Felicia'\u001b[0m\u001b[0;34m)\u001b[0m\u001b[0;34m\u001b[0m\u001b[0;34m\u001b[0m\u001b[0m\n\u001b[0m",
            "\u001b[0;31mNameError\u001b[0m: name 'frint' is not defined"
          ]
        }
      ]
    },
    {
      "cell_type": "code",
      "source": [
        "  #menampilkan kalimat\n",
        "print ('NAMA          : ZURICH SABIL')\n",
        "print ('')\n",
        "print ('NPM           : 2430506057')\n",
        "print ('')\n",
        "print ('Alamat        : Keramat Selatan, Kec. Magelang Utara, Kota Magelang')\n",
        "print ('')\n",
        "print ('Tinggi badan  : 157 Cm')\n",
        "print ('')\n",
        "print ('Berat Badan   : 58 Kg')"
      ],
      "metadata": {
        "colab": {
          "base_uri": "https://localhost:8080/"
        },
        "id": "Kktig12RNvHO",
        "outputId": "f3b09e3a-ff1c-49a2-f698-a3e9577571d2"
      },
      "execution_count": null,
      "outputs": [
        {
          "output_type": "stream",
          "name": "stdout",
          "text": [
            "NAMA          : ZURICH SABIL\n",
            "\n",
            "NPM           : 2430506057\n",
            "\n",
            "Alamat        : Keramat Selatan, Kec. Magelang Utara, Kota Magelang\n",
            "\n",
            "Tinggi badan  : 157 Cm\n",
            "\n",
            "Berat Badan   : 58 Kg\n"
          ]
        }
      ]
    },
    {
      "cell_type": "code",
      "source": [
        "  #menampilkan kalimat\n",
        "  print ('\\033[1mUNIVERSITAS TIDAR\\033[0m')\n",
        "  print ('Universitas Tidar merupakan Perguruan Tinggi Pemerintah atau Perguruan Tinggi Negeri yang telah ditetapkan berdasarkan Peraturan Presiden Republik Indonesia Nomor 23 Tahun 2014 pada tanggal 1 april 2014 ')\n",
        "  print ('')\n",
        "  print ('\\033[1mJURUSAN TEKNIK ELEKTRO, MEKATRONIKA, DAN INFORMASI\\033[0m')\n",
        "  print ('Jurusan teknik Elektro terdiri atas tiga program studi, antara lain: ')\n",
        "  print ('    1. S1 Teknik Elektro \\033[3m(Bachhelor of Electrical Engineering)\\033[0m')\n",
        "  print ('    2. S1 Teknologi Informasi \\033[3m(Bachelor of Information Technology)\\033[0m')\n",
        "  print ('    3. S1 Teknik Mekatronika \\033[3m(Bachelor of Mechatronics Engineering)\\033[0m')"
      ],
      "metadata": {
        "colab": {
          "base_uri": "https://localhost:8080/"
        },
        "id": "fLqQY58iWeMh",
        "outputId": "dd59a321-bfa4-4f32-ff85-d7fa27a25c1e"
      },
      "execution_count": 7,
      "outputs": [
        {
          "output_type": "stream",
          "name": "stdout",
          "text": [
            "\u001b[1mUNIVERSITAS TIDAR\u001b[0m\n",
            "Universitas Tidar merupakan Perguruan Tinggi Pemerintah atau Perguruan Tinggi Negeri yang telah ditetapkan berdasarkan Peraturan Presiden Republik Indonesia Nomor 23 Tahun 2014 pada tanggal 1 april 2014 \n",
            "\n",
            "\u001b[1mJURUSAN TEKNIK ELEKTRO, MEKATRONIKA, DAN INFORMASI\u001b[0m\n",
            "Jurusan teknik Elektro terdiri atas tiga program studi, antara lain: \n",
            "    1. S1 Teknik Elektro \u001b[3m(Bachhelor of Electrical Engineering)\u001b[0m\n",
            "    2. S1 Teknologi Informasi \u001b[3m(Bachelor of Information Technology)\u001b[0m\n",
            "    3. S1 Teknik Mekatronika \u001b[3m(Bachelor of Mechatronics Engineering)\u001b[0m\n"
          ]
        }
      ]
    }
  ]
}